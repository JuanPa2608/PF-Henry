{
 "cells": [
  {
   "cell_type": "code",
   "execution_count": 1,
   "metadata": {},
   "outputs": [],
   "source": [
    "# Importar las librerías necesarias\n",
    "import pandas as pd\n",
    "import json\n",
    "import matplotlib.pyplot as plt\n",
    "import seaborn as sns\n",
    "from wordcloud import WordCloud, STOPWORDS\n",
    "import plotly.graph_objects as go\n",
    "import plotly.express as px"
   ]
  },
  {
   "cell_type": "code",
   "execution_count": 5,
   "metadata": {},
   "outputs": [],
   "source": [
    "# Inicializacion de Variables. Listas para almacenar los diccionarios y los números de línea con errores\n",
    "datos = []\n",
    "lineas_con_errores = []\n",
    "\n",
    "# Contadores para el total de líneas y registros leídos correctamente\n",
    "total_lineas = 0\n",
    "registros_correctos = 0\n",
    "\n",
    "# Lectura del primer archivo comprimido . Abrir el archivo y leerlo línea por línea. \n",
    "with open('df_final_utah.json', 'rt', encoding='utf-8') as archivo:\n",
    "\n",
    "    for num_linea, linea in enumerate(archivo, start=1):  # Bucle for para recorrer cada línea del archivo.\n",
    "        total_lineas += 1\n",
    "        try:\n",
    "            # Intentar cargar la línea como JSON\n",
    "            data = json.loads(linea)\n",
    "            datos.append(data)\n",
    "            registros_correctos += 1\n",
    "        except json.JSONDecodeError:\n",
    "            try:\n",
    "                # Si falla como JSON, intentar cargarlo como diccionario\n",
    "                data = eval(linea)  # Usa eval para interpretar la línea como un diccionario\n",
    "                if isinstance(data, dict):\n",
    "                    datos.append(data)\n",
    "                    registros_correctos += 1\n",
    "                else:\n",
    "                    lineas_con_errores.append(num_linea)\n",
    "            except Exception as e:\n",
    "                lineas_con_errores.append(num_linea)\n",
    "\n",
    "# Crear un DataFrame a partir de la lista de diccionarios\n",
    "df = pd.DataFrame(datos)"
   ]
  },
  {
   "cell_type": "code",
   "execution_count": 6,
   "metadata": {},
   "outputs": [
    {
     "data": {
      "text/plain": [
       "(275001, 15)"
      ]
     },
     "execution_count": 6,
     "metadata": {},
     "output_type": "execute_result"
    }
   ],
   "source": [
    "df.shape"
   ]
  },
  {
   "cell_type": "code",
   "execution_count": 4,
   "metadata": {},
   "outputs": [
    {
     "data": {
      "text/plain": [
       "(30834, 40)"
      ]
     },
     "execution_count": 4,
     "metadata": {},
     "output_type": "execute_result"
    }
   ],
   "source": [
    "df.shape"
   ]
  },
  {
   "cell_type": "code",
   "execution_count": 5,
   "metadata": {},
   "outputs": [
    {
     "name": "stdout",
     "output_type": "stream",
     "text": [
      "<class 'pandas.core.frame.DataFrame'>\n",
      "RangeIndex: 30834 entries, 0 to 30833\n",
      "Data columns (total 40 columns):\n",
      " #   Column             Non-Null Count  Dtype  \n",
      "---  ------             --------------  -----  \n",
      " 0   user_id            30834 non-null  object \n",
      " 1   name_x             30834 non-null  object \n",
      " 2   time               30834 non-null  int64  \n",
      " 3   rating             30834 non-null  int64  \n",
      " 4   text               30834 non-null  object \n",
      " 5   pics               30834 non-null  object \n",
      " 6   resp               30834 non-null  object \n",
      " 7   gmap_id            30834 non-null  object \n",
      " 8   name_y             30834 non-null  object \n",
      " 9   address            30834 non-null  object \n",
      " 10  description        30834 non-null  object \n",
      " 11  latitude           30834 non-null  float64\n",
      " 12  longitude          30834 non-null  float64\n",
      " 13  category           30834 non-null  object \n",
      " 14  avg_rating         30834 non-null  float64\n",
      " 15  num_of_reviews     30834 non-null  int64  \n",
      " 16  price              30834 non-null  object \n",
      " 17  hours              30834 non-null  object \n",
      " 18  state              30834 non-null  object \n",
      " 19  relative_results   30834 non-null  object \n",
      " 20  url                30834 non-null  object \n",
      " 21  Service options    30834 non-null  object \n",
      " 22  Health & safety    30834 non-null  object \n",
      " 23  Accessibility      30834 non-null  object \n",
      " 24  Planning           30834 non-null  object \n",
      " 25  Payments           30834 non-null  object \n",
      " 26  Highlights         30834 non-null  object \n",
      " 27  Popular for        30834 non-null  object \n",
      " 28  Offerings          30834 non-null  object \n",
      " 29  Dining options     30834 non-null  object \n",
      " 30  Amenities          30834 non-null  object \n",
      " 31  Atmosphere         30834 non-null  object \n",
      " 32  Crowd              30834 non-null  object \n",
      " 33  Health and safety  5315 non-null   object \n",
      " 34  From the business  30834 non-null  object \n",
      " 35  Recycling          30834 non-null  object \n",
      " 36  Getting here       30834 non-null  object \n",
      " 37  Activities         30834 non-null  object \n",
      " 38  is_food_related    30834 non-null  bool   \n",
      " 39  Lodging options    15678 non-null  object \n",
      "dtypes: bool(1), float64(3), int64(3), object(33)\n",
      "memory usage: 9.2+ MB\n"
     ]
    }
   ],
   "source": [
    "df.info()"
   ]
  },
  {
   "cell_type": "code",
   "execution_count": 7,
   "metadata": {},
   "outputs": [
    {
     "name": "stdout",
     "output_type": "stream",
     "text": [
      "user_id                  0\n",
      "name_x                   0\n",
      "time                     0\n",
      "rating                   0\n",
      "text                     0\n",
      "pics                     0\n",
      "resp                     0\n",
      "gmap_id                  0\n",
      "name_y                   0\n",
      "address                  0\n",
      "description              0\n",
      "latitude                 0\n",
      "longitude                0\n",
      "category                 0\n",
      "avg_rating               0\n",
      "num_of_reviews           0\n",
      "price                    0\n",
      "hours                    0\n",
      "state                    0\n",
      "relative_results         0\n",
      "url                      0\n",
      "Service options          0\n",
      "Health & safety          0\n",
      "Accessibility            0\n",
      "Planning                 0\n",
      "Payments                 0\n",
      "Highlights               0\n",
      "Popular for              0\n",
      "Offerings                0\n",
      "Dining options           0\n",
      "Amenities                0\n",
      "Atmosphere               0\n",
      "Crowd                    0\n",
      "Health and safety    20235\n",
      "From the business        0\n",
      "Recycling                0\n",
      "Getting here             0\n",
      "Activities               0\n",
      "is_food_related          0\n",
      "Lodging options      13090\n",
      "dtype: int64\n"
     ]
    }
   ],
   "source": [
    "total_nulls = df.isnull().sum()\n",
    "print(total_nulls)\n"
   ]
  },
  {
   "cell_type": "code",
   "execution_count": 6,
   "metadata": {},
   "outputs": [
    {
     "data": {
      "image/png": "[encoded data removed]",
      "text/plain": [
       "<Figure size 1000x500 with 2 Axes>"
      ]
     },
     "metadata": {},
     "output_type": "display_data"
    }
   ],
   "source": [
    "\n",
    "# plot the null values\n",
    "plt.figure(figsize=(10,5), dpi=100)\n",
    "sns.heatmap(data=df.isnull(), yticklabels=False)\n",
    "\n",
    "plt.show()"
   ]
  },
  {
   "cell_type": "code",
   "execution_count": 8,
   "metadata": {},
   "outputs": [],
   "source": [
    "df = df.fillna('sin dato')\n"
   ]
  },
  {
   "cell_type": "code",
   "execution_count": 9,
   "metadata": {},
   "outputs": [
    {
     "data": {
      "text/html": [
       "<div>\n",
       "<style scoped>\n",
       "    .dataframe tbody tr th:only-of-type {\n",
       "        vertical-align: middle;\n",
       "    }\n",
       "\n",
       "    .dataframe tbody tr th {\n",
       "        vertical-align: top;\n",
       "    }\n",
       "\n",
       "    .dataframe thead th {\n",
       "        text-align: right;\n",
       "    }\n",
       "</style>\n",
       "<table border=\"1\" class=\"dataframe\">\n",
       "  <thead>\n",
       "    <tr style=\"text-align: right;\">\n",
       "      <th></th>\n",
       "      <th>user_id</th>\n",
       "      <th>name_x</th>\n",
       "      <th>time</th>\n",
       "      <th>rating</th>\n",
       "      <th>text</th>\n",
       "      <th>pics</th>\n",
       "      <th>resp</th>\n",
       "      <th>gmap_id</th>\n",
       "      <th>name_y</th>\n",
       "      <th>address</th>\n",
       "      <th>...</th>\n",
       "      <th>Amenities</th>\n",
       "      <th>Atmosphere</th>\n",
       "      <th>Crowd</th>\n",
       "      <th>Health and safety</th>\n",
       "      <th>From the business</th>\n",
       "      <th>Recycling</th>\n",
       "      <th>Getting here</th>\n",
       "      <th>Activities</th>\n",
       "      <th>is_food_related</th>\n",
       "      <th>Lodging options</th>\n",
       "    </tr>\n",
       "  </thead>\n",
       "  <tbody>\n",
       "    <tr>\n",
       "      <th>0</th>\n",
       "      <td>100609882855642277344</td>\n",
       "      <td>Eric Ruiz</td>\n",
       "      <td>1615583899364</td>\n",
       "      <td>5</td>\n",
       "      <td></td>\n",
       "      <td></td>\n",
       "      <td></td>\n",
       "      <td>0x87528c956cf088cf:0xa9bd9bb45594f74b</td>\n",
       "      <td>McDonald's</td>\n",
       "      <td>McDonald's, 3464 W 3500 S, West Valley City, U...</td>\n",
       "      <td>...</td>\n",
       "      <td>[Gender-neutral toilets, Good for kids, Toilets]</td>\n",
       "      <td>[Casual]</td>\n",
       "      <td>[Groups]</td>\n",
       "      <td></td>\n",
       "      <td></td>\n",
       "      <td></td>\n",
       "      <td></td>\n",
       "      <td></td>\n",
       "      <td>True</td>\n",
       "      <td>sin dato</td>\n",
       "    </tr>\n",
       "    <tr>\n",
       "      <th>1</th>\n",
       "      <td>100856373937380351110</td>\n",
       "      <td>Carlos Gallardo</td>\n",
       "      <td>1554713215026</td>\n",
       "      <td>2</td>\n",
       "      <td></td>\n",
       "      <td></td>\n",
       "      <td></td>\n",
       "      <td>0x87528c956cf088cf:0xa9bd9bb45594f74b</td>\n",
       "      <td>McDonald's</td>\n",
       "      <td>McDonald's, 3464 W 3500 S, West Valley City, U...</td>\n",
       "      <td>...</td>\n",
       "      <td>[Gender-neutral toilets, Good for kids, Toilets]</td>\n",
       "      <td>[Casual]</td>\n",
       "      <td>[Groups]</td>\n",
       "      <td></td>\n",
       "      <td></td>\n",
       "      <td></td>\n",
       "      <td></td>\n",
       "      <td></td>\n",
       "      <td>True</td>\n",
       "      <td>sin dato</td>\n",
       "    </tr>\n",
       "    <tr>\n",
       "      <th>2</th>\n",
       "      <td>111220286459924328350</td>\n",
       "      <td>Michael Long</td>\n",
       "      <td>1507152434474</td>\n",
       "      <td>3</td>\n",
       "      <td></td>\n",
       "      <td></td>\n",
       "      <td></td>\n",
       "      <td>0x87528c956cf088cf:0xa9bd9bb45594f74b</td>\n",
       "      <td>McDonald's</td>\n",
       "      <td>McDonald's, 3464 W 3500 S, West Valley City, U...</td>\n",
       "      <td>...</td>\n",
       "      <td>[Gender-neutral toilets, Good for kids, Toilets]</td>\n",
       "      <td>[Casual]</td>\n",
       "      <td>[Groups]</td>\n",
       "      <td></td>\n",
       "      <td></td>\n",
       "      <td></td>\n",
       "      <td></td>\n",
       "      <td></td>\n",
       "      <td>True</td>\n",
       "      <td>sin dato</td>\n",
       "    </tr>\n",
       "    <tr>\n",
       "      <th>3</th>\n",
       "      <td>107915300161744189586</td>\n",
       "      <td>Shambray Perkins</td>\n",
       "      <td>1567474887327</td>\n",
       "      <td>1</td>\n",
       "      <td></td>\n",
       "      <td></td>\n",
       "      <td></td>\n",
       "      <td>0x87528c956cf088cf:0xa9bd9bb45594f74b</td>\n",
       "      <td>McDonald's</td>\n",
       "      <td>McDonald's, 3464 W 3500 S, West Valley City, U...</td>\n",
       "      <td>...</td>\n",
       "      <td>[Gender-neutral toilets, Good for kids, Toilets]</td>\n",
       "      <td>[Casual]</td>\n",
       "      <td>[Groups]</td>\n",
       "      <td></td>\n",
       "      <td></td>\n",
       "      <td></td>\n",
       "      <td></td>\n",
       "      <td></td>\n",
       "      <td>True</td>\n",
       "      <td>sin dato</td>\n",
       "    </tr>\n",
       "    <tr>\n",
       "      <th>4</th>\n",
       "      <td>106062829954412827416</td>\n",
       "      <td>Danilo Noriega</td>\n",
       "      <td>1614551182378</td>\n",
       "      <td>5</td>\n",
       "      <td></td>\n",
       "      <td></td>\n",
       "      <td></td>\n",
       "      <td>0x87528c956cf088cf:0xa9bd9bb45594f74b</td>\n",
       "      <td>McDonald's</td>\n",
       "      <td>McDonald's, 3464 W 3500 S, West Valley City, U...</td>\n",
       "      <td>...</td>\n",
       "      <td>[Gender-neutral toilets, Good for kids, Toilets]</td>\n",
       "      <td>[Casual]</td>\n",
       "      <td>[Groups]</td>\n",
       "      <td></td>\n",
       "      <td></td>\n",
       "      <td></td>\n",
       "      <td></td>\n",
       "      <td></td>\n",
       "      <td>True</td>\n",
       "      <td>sin dato</td>\n",
       "    </tr>\n",
       "  </tbody>\n",
       "</table>\n",
       "<p>5 rows × 40 columns</p>\n",
       "</div>"
      ],
      "text/plain": [
       "                 user_id            name_x           time  rating text pics  \\\n",
       "0  100609882855642277344         Eric Ruiz  1615583899364       5             \n",
       "1  100856373937380351110   Carlos Gallardo  1554713215026       2             \n",
       "2  111220286459924328350      Michael Long  1507152434474       3             \n",
       "3  107915300161744189586  Shambray Perkins  1567474887327       1             \n",
       "4  106062829954412827416    Danilo Noriega  1614551182378       5             \n",
       "\n",
       "  resp                                gmap_id      name_y  \\\n",
       "0       0x87528c956cf088cf:0xa9bd9bb45594f74b  McDonald's   \n",
       "1       0x87528c956cf088cf:0xa9bd9bb45594f74b  McDonald's   \n",
       "2       0x87528c956cf088cf:0xa9bd9bb45594f74b  McDonald's   \n",
       "3       0x87528c956cf088cf:0xa9bd9bb45594f74b  McDonald's   \n",
       "4       0x87528c956cf088cf:0xa9bd9bb45594f74b  McDonald's   \n",
       "\n",
       "                                             address  ...  \\\n",
       "0  McDonald's, 3464 W 3500 S, West Valley City, U...  ...   \n",
       "1  McDonald's, 3464 W 3500 S, West Valley City, U...  ...   \n",
       "2  McDonald's, 3464 W 3500 S, West Valley City, U...  ...   \n",
       "3  McDonald's, 3464 W 3500 S, West Valley City, U...  ...   \n",
       "4  McDonald's, 3464 W 3500 S, West Valley City, U...  ...   \n",
       "\n",
       "                                          Amenities  Atmosphere     Crowd  \\\n",
       "0  [Gender-neutral toilets, Good for kids, Toilets]    [Casual]  [Groups]   \n",
       "1  [Gender-neutral toilets, Good for kids, Toilets]    [Casual]  [Groups]   \n",
       "2  [Gender-neutral toilets, Good for kids, Toilets]    [Casual]  [Groups]   \n",
       "3  [Gender-neutral toilets, Good for kids, Toilets]    [Casual]  [Groups]   \n",
       "4  [Gender-neutral toilets, Good for kids, Toilets]    [Casual]  [Groups]   \n",
       "\n",
       "  Health and safety  From the business  Recycling Getting here Activities  \\\n",
       "0                                                                           \n",
       "1                                                                           \n",
       "2                                                                           \n",
       "3                                                                           \n",
       "4                                                                           \n",
       "\n",
       "  is_food_related Lodging options  \n",
       "0            True        sin dato  \n",
       "1            True        sin dato  \n",
       "2            True        sin dato  \n",
       "3            True        sin dato  \n",
       "4            True        sin dato  \n",
       "\n",
       "[5 rows x 40 columns]"
      ]
     },
     "metadata": {},
     "output_type": "display_data"
    },
    {
     "name": "stdout",
     "output_type": "stream",
     "text": [
      "<class 'pandas.core.frame.DataFrame'>\n",
      "RangeIndex: 25524 entries, 0 to 25523\n",
      "Data columns (total 40 columns):\n",
      " #   Column             Non-Null Count  Dtype  \n",
      "---  ------             --------------  -----  \n",
      " 0   user_id            25524 non-null  object \n",
      " 1   name_x             25524 non-null  object \n",
      " 2   time               25524 non-null  int64  \n",
      " 3   rating             25524 non-null  int64  \n",
      " 4   text               25524 non-null  object \n",
      " 5   pics               25524 non-null  object \n",
      " 6   resp               25524 non-null  object \n",
      " 7   gmap_id            25524 non-null  object \n",
      " 8   name_y             25524 non-null  object \n",
      " 9   address            25524 non-null  object \n",
      " 10  description        25524 non-null  object \n",
      " 11  latitude           25524 non-null  float64\n",
      " 12  longitude          25524 non-null  float64\n",
      " 13  category           25524 non-null  object \n",
      " 14  avg_rating         25524 non-null  float64\n",
      " 15  num_of_reviews     25524 non-null  int64  \n",
      " 16  price              25524 non-null  object \n",
      " 17  hours              25524 non-null  object \n",
      " 18  state              25524 non-null  object \n",
      " 19  relative_results   25524 non-null  object \n",
      " 20  url                25524 non-null  object \n",
      " 21  Service options    25524 non-null  object \n",
      " 22  Health & safety    25524 non-null  object \n",
      " 23  Accessibility      25524 non-null  object \n",
      " 24  Planning           25524 non-null  object \n",
      " 25  Payments           25524 non-null  object \n",
      " 26  Highlights         25524 non-null  object \n",
      " 27  Popular for        25524 non-null  object \n",
      " 28  Offerings          25524 non-null  object \n",
      " 29  Dining options     25524 non-null  object \n",
      " 30  Amenities          25524 non-null  object \n",
      " 31  Atmosphere         25524 non-null  object \n",
      " 32  Crowd              25524 non-null  object \n",
      " 33  Health and safety  25524 non-null  object \n",
      " 34  From the business  25524 non-null  object \n",
      " 35  Recycling          25524 non-null  object \n",
      " 36  Getting here       25524 non-null  object \n",
      " 37  Activities         25524 non-null  object \n",
      " 38  is_food_related    25524 non-null  bool   \n",
      " 39  Lodging options    25524 non-null  object \n",
      "dtypes: bool(1), float64(3), int64(3), object(33)\n",
      "memory usage: 7.6+ MB\n"
     ]
    },
    {
     "data": {
      "text/plain": [
       "None"
      ]
     },
     "metadata": {},
     "output_type": "display_data"
    }
   ],
   "source": [
    "# Algun duplicado, los eliminaremos.\n",
    "df = df.loc[:,~df.columns.duplicated()].copy()\n",
    "\n",
    "display(df.head())\n",
    "\n",
    "# Print the info\n",
    "display(df.info())"
   ]
  },
  {
   "cell_type": "code",
   "execution_count": 10,
   "metadata": {},
   "outputs": [
    {
     "data": {
      "application/vnd.plotly.v1+json": {
       "config": {
        "plotlyServerURL": "https://plot.ly"
       },
       "data": [
        {
         "marker": {
          "color": "pink"
         },
         "orientation": "h",
         "type": "bar",
         "x": [
          5,
          5,
          5,
          4.9,
          4.9,
          4.9,
          4.9,
          4.9,
          4.9,
          4.9
         ],
         "y": [
          "The Bean Whole",
          "Korealicious",
          "The Beach House at Promontory",
          "The Crepe Station",
          "Nutri Taste Bakery",
          "Lops Pop Shop",
          "MOJO COFFEE",
          "Cup of Joes",
          "G2G Protein Bar/ Good2go Bar",
          "Kings Peak Coffee Roasters"
         ]
        }
       ],
       "layout": {
        "font": {
         "color": "black",
         "size": 14
        },
        "template": {
         "data": {
          "bar": [
           {
            "error_x": {
             "color": "#2a3f5f"
            },
            "error_y": {
             "color": "#2a3f5f"
            },
            "marker": {
             "line": {
              "color": "#E5ECF6",
              "width": 0.5
             },
             "pattern": {
              "fillmode": "overlay",
              "size": 10,
              "solidity": 0.2
             }
            },
            "type": "bar"
           }
          ],
          "barpolar": [
           {
            "marker": {
             "line": {
              "color": "#E5ECF6",
              "width": 0.5
             },
             "pattern": {
              "fillmode": "overlay",
              "size": 10,
              "solidity": 0.2
             }
            },
            "type": "barpolar"
           }
          ],
          "carpet": [
           {
            "aaxis": {
             "endlinecolor": "#2a3f5f",
             "gridcolor": "white",
             "linecolor": "white",
             "minorgridcolor": "white",
             "startlinecolor": "#2a3f5f"
            },
            "baxis": {
             "endlinecolor": "#2a3f5f",
             "gridcolor": "white",
             "linecolor": "white",
             "minorgridcolor": "white",
             "startlinecolor": "#2a3f5f"
            },
            "type": "carpet"
           }
          ],
          "choropleth": [
           {
            "colorbar": {
             "outlinewidth": 0,
             "ticks": ""
            },
            "type": "choropleth"
           }
          ],
          "contour": [
           {
            "colorbar": {
             "outlinewidth": 0,
             "ticks": ""
            },
            "colorscale": [
             [
              0,
              "#0d0887"
             ],
             [
              0.1111111111111111,
              "#46039f"
             ],
             [
              0.2222222222222222,
              "#7201a8"
             ],
             [
              0.3333333333333333,
              "#9c179e"
             ],
             [
              0.4444444444444444,
              "#bd3786"
             ],
             [
              0.5555555555555556,
              "#d8576b"
             ],
             [
              0.6666666666666666,
              "#ed7953"
             ],
             [
              0.7777777777777778,
              "#fb9f3a"
             ],
             [
              0.8888888888888888,
              "#fdca26"
             ],
             [
              1,
              "#f0f921"
             ]
            ],
            "type": "contour"
           }
          ],
          "contourcarpet": [
           {
            "colorbar": {
             "outlinewidth": 0,
             "ticks": ""
            },
            "type": "contourcarpet"
           }
          ],
          "heatmap": [
           {
            "colorbar": {
             "outlinewidth": 0,
             "ticks": ""
            },
            "colorscale": [
             [
              0,
              "#0d0887"
             ],
             [
              0.1111111111111111,
              "#46039f"
             ],
             [
              0.2222222222222222,
              "#7201a8"
             ],
             [
              0.3333333333333333,
              "#9c179e"
             ],
             [
              0.4444444444444444,
              "#bd3786"
             ],
             [
              0.5555555555555556,
              "#d8576b"
             ],
             [
              0.6666666666666666,
              "#ed7953"
             ],
             [
              0.7777777777777778,
              "#fb9f3a"
             ],
             [
              0.8888888888888888,
              "#fdca26"
             ],
             [
              1,
              "#f0f921"
             ]
            ],
            "type": "heatmap"
           }
          ],
          "heatmapgl": [
           {
            "colorbar": {
             "outlinewidth": 0,
             "ticks": ""
            },
            "colorscale": [
             [
              0,
              "#0d0887"
             ],
             [
              0.1111111111111111,
              "#46039f"
             ],
             [
              0.2222222222222222,
              "#7201a8"
             ],
             [
              0.3333333333333333,
              "#9c179e"
             ],
             [
              0.4444444444444444,
              "#bd3786"
             ],
             [
              0.5555555555555556,
              "#d8576b"
             ],
             [
              0.6666666666666666,
              "#ed7953"
             ],
             [
              0.7777777777777778,
              "#fb9f3a"
             ],
             [
              0.8888888888888888,
              "#fdca26"
             ],
             [
              1,
              "#f0f921"
             ]
            ],
            "type": "heatmapgl"
           }
          ],
          "histogram": [
           {
            "marker": {
             "pattern": {
              "fillmode": "overlay",
              "size": 10,
              "solidity": 0.2
             }
            },
            "type": "histogram"
           }
          ],
          "histogram2d": [
           {
            "colorbar": {
             "outlinewidth": 0,
             "ticks": ""
            },
            "colorscale": [
             [
              0,
              "#0d0887"
             ],
             [
              0.1111111111111111,
              "#46039f"
             ],
             [
              0.2222222222222222,
              "#7201a8"
             ],
             [
              0.3333333333333333,
              "#9c179e"
             ],
             [
              0.4444444444444444,
              "#bd3786"
             ],
             [
              0.5555555555555556,
              "#d8576b"
             ],
             [
              0.6666666666666666,
              "#ed7953"
             ],
             [
              0.7777777777777778,
              "#fb9f3a"
             ],
             [
              0.8888888888888888,
              "#fdca26"
             ],
             [
              1,
              "#f0f921"
             ]
            ],
            "type": "histogram2d"
           }
          ],
          "histogram2dcontour": [
           {
            "colorbar": {
             "outlinewidth": 0,
             "ticks": ""
            },
            "colorscale": [
             [
              0,
              "#0d0887"
             ],
             [
              0.1111111111111111,
              "#46039f"
             ],
             [
              0.2222222222222222,
              "#7201a8"
             ],
             [
              0.3333333333333333,
              "#9c179e"
             ],
             [
              0.4444444444444444,
              "#bd3786"
             ],
             [
              0.5555555555555556,
              "#d8576b"
             ],
             [
              0.6666666666666666,
              "#ed7953"
             ],
             [
              0.7777777777777778,
              "#fb9f3a"
             ],
             [
              0.8888888888888888,
              "#fdca26"
             ],
             [
              1,
              "#f0f921"
             ]
            ],
            "type": "histogram2dcontour"
           }
          ],
          "mesh3d": [
           {
            "colorbar": {
             "outlinewidth": 0,
             "ticks": ""
            },
            "type": "mesh3d"
           }
          ],
          "parcoords": [
           {
            "line": {
             "colorbar": {
              "outlinewidth": 0,
              "ticks": ""
             }
            },
            "type": "parcoords"
           }
          ],
          "pie": [
           {
            "automargin": true,
            "type": "pie"
           }
          ],
          "scatter": [
           {
            "fillpattern": {
             "fillmode": "overlay",
             "size": 10,
             "solidity": 0.2
            },
            "type": "scatter"
           }
          ],
          "scatter3d": [
           {
            "line": {
             "colorbar": {
              "outlinewidth": 0,
              "ticks": ""
             }
            },
            "marker": {
             "colorbar": {
              "outlinewidth": 0,
              "ticks": ""
             }
            },
            "type": "scatter3d"
           }
          ],
          "scattercarpet": [
           {
            "marker": {
             "colorbar": {
              "outlinewidth": 0,
              "ticks": ""
             }
            },
            "type": "scattercarpet"
           }
          ],
          "scattergeo": [
           {
            "marker": {
             "colorbar": {
              "outlinewidth": 0,
              "ticks": ""
             }
            },
            "type": "scattergeo"
           }
          ],
          "scattergl": [
           {
            "marker": {
             "colorbar": {
              "outlinewidth": 0,
              "ticks": ""
             }
            },
            "type": "scattergl"
           }
          ],
          "scattermapbox": [
           {
            "marker": {
             "colorbar": {
              "outlinewidth": 0,
              "ticks": ""
             }
            },
            "type": "scattermapbox"
           }
          ],
          "scatterpolar": [
           {
            "marker": {
             "colorbar": {
              "outlinewidth": 0,
              "ticks": ""
             }
            },
            "type": "scatterpolar"
           }
          ],
          "scatterpolargl": [
           {
            "marker": {
             "colorbar": {
              "outlinewidth": 0,
              "ticks": ""
             }
            },
            "type": "scatterpolargl"
           }
          ],
          "scatterternary": [
           {
            "marker": {
             "colorbar": {
              "outlinewidth": 0,
              "ticks": ""
             }
            },
            "type": "scatterternary"
           }
          ],
          "surface": [
           {
            "colorbar": {
             "outlinewidth": 0,
             "ticks": ""
            },
            "colorscale": [
             [
              0,
              "#0d0887"
             ],
             [
              0.1111111111111111,
              "#46039f"
             ],
             [
              0.2222222222222222,
              "#7201a8"
             ],
             [
              0.3333333333333333,
              "#9c179e"
             ],
             [
              0.4444444444444444,
              "#bd3786"
             ],
             [
              0.5555555555555556,
              "#d8576b"
             ],
             [
              0.6666666666666666,
              "#ed7953"
             ],
             [
              0.7777777777777778,
              "#fb9f3a"
             ],
             [
              0.8888888888888888,
              "#fdca26"
             ],
             [
              1,
              "#f0f921"
             ]
            ],
            "type": "surface"
           }
          ],
          "table": [
           {
            "cells": {
             "fill": {
              "color": "#EBF0F8"
             },
             "line": {
              "color": "white"
             }
            },
            "header": {
             "fill": {
              "color": "#C8D4E3"
             },
             "line": {
              "color": "white"
             }
            },
            "type": "table"
           }
          ]
         },
         "layout": {
          "annotationdefaults": {
           "arrowcolor": "#2a3f5f",
           "arrowhead": 0,
           "arrowwidth": 1
          },
          "autotypenumbers": "strict",
          "coloraxis": {
           "colorbar": {
            "outlinewidth": 0,
            "ticks": ""
           }
          },
          "colorscale": {
           "diverging": [
            [
             0,
             "#8e0152"
            ],
            [
             0.1,
             "#c51b7d"
            ],
            [
             0.2,
             "#de77ae"
            ],
            [
             0.3,
             "#f1b6da"
            ],
            [
             0.4,
             "#fde0ef"
            ],
            [
             0.5,
             "#f7f7f7"
            ],
            [
             0.6,
             "#e6f5d0"
            ],
            [
             0.7,
             "#b8e186"
            ],
            [
             0.8,
             "#7fbc41"
            ],
            [
             0.9,
             "#4d9221"
            ],
            [
             1,
             "#276419"
            ]
           ],
           "sequential": [
            [
             0,
             "#0d0887"
            ],
            [
             0.1111111111111111,
             "#46039f"
            ],
            [
             0.2222222222222222,
             "#7201a8"
            ],
            [
             0.3333333333333333,
             "#9c179e"
            ],
            [
             0.4444444444444444,
             "#bd3786"
            ],
            [
             0.5555555555555556,
             "#d8576b"
            ],
            [
             0.6666666666666666,
             "#ed7953"
            ],
            [
             0.7777777777777778,
             "#fb9f3a"
            ],
            [
             0.8888888888888888,
             "#fdca26"
            ],
            [
             1,
             "#f0f921"
            ]
           ],
           "sequentialminus": [
            [
             0,
             "#0d0887"
            ],
            [
             0.1111111111111111,
             "#46039f"
            ],
            [
             0.2222222222222222,
             "#7201a8"
            ],
            [
             0.3333333333333333,
             "#9c179e"
            ],
            [
             0.4444444444444444,
             "#bd3786"
            ],
            [
             0.5555555555555556,
             "#d8576b"
            ],
            [
             0.6666666666666666,
             "#ed7953"
            ],
            [
             0.7777777777777778,
             "#fb9f3a"
            ],
            [
             0.8888888888888888,
             "#fdca26"
            ],
            [
             1,
             "#f0f921"
            ]
           ]
          },
          "colorway": [
           "#636efa",
           "#EF553B",
           "#00cc96",
           "#ab63fa",
           "#FFA15A",
           "#19d3f3",
           "#FF6692",
           "#B6E880",
           "#FF97FF",
           "#FECB52"
          ],
          "font": {
           "color": "#2a3f5f"
          },
          "geo": {
           "bgcolor": "white",
           "lakecolor": "white",
           "landcolor": "#E5ECF6",
           "showlakes": true,
           "showland": true,
           "subunitcolor": "white"
          },
          "hoverlabel": {
           "align": "left"
          },
          "hovermode": "closest",
          "mapbox": {
           "style": "light"
          },
          "paper_bgcolor": "white",
          "plot_bgcolor": "#E5ECF6",
          "polar": {
           "angularaxis": {
            "gridcolor": "white",
            "linecolor": "white",
            "ticks": ""
           },
           "bgcolor": "#E5ECF6",
           "radialaxis": {
            "gridcolor": "white",
            "linecolor": "white",
            "ticks": ""
           }
          },
          "scene": {
           "xaxis": {
            "backgroundcolor": "#E5ECF6",
            "gridcolor": "white",
            "gridwidth": 2,
            "linecolor": "white",
            "showbackground": true,
            "ticks": "",
            "zerolinecolor": "white"
           },
           "yaxis": {
            "backgroundcolor": "#E5ECF6",
            "gridcolor": "white",
            "gridwidth": 2,
            "linecolor": "white",
            "showbackground": true,
            "ticks": "",
            "zerolinecolor": "white"
           },
           "zaxis": {
            "backgroundcolor": "#E5ECF6",
            "gridcolor": "white",
            "gridwidth": 2,
            "linecolor": "white",
            "showbackground": true,
            "ticks": "",
            "zerolinecolor": "white"
           }
          },
          "shapedefaults": {
           "line": {
            "color": "#2a3f5f"
           }
          },
          "ternary": {
           "aaxis": {
            "gridcolor": "white",
            "linecolor": "white",
            "ticks": ""
           },
           "baxis": {
            "gridcolor": "white",
            "linecolor": "white",
            "ticks": ""
           },
           "bgcolor": "#E5ECF6",
           "caxis": {
            "gridcolor": "white",
            "linecolor": "white",
            "ticks": ""
           }
          },
          "title": {
           "x": 0.05
          },
          "xaxis": {
           "automargin": true,
           "gridcolor": "white",
           "linecolor": "white",
           "ticks": "",
           "title": {
            "standoff": 15
           },
           "zerolinecolor": "white",
           "zerolinewidth": 2
          },
          "yaxis": {
           "automargin": true,
           "gridcolor": "white",
           "linecolor": "white",
           "ticks": "",
           "title": {
            "standoff": 15
           },
           "zerolinecolor": "white",
           "zerolinewidth": 2
          }
         }
        },
        "title": {
         "text": "Los 10 restaurantes con más avg_rating"
        },
        "xaxis": {
         "title": {
          "text": "avg_rating"
         }
        },
        "yaxis": {
         "title": {
          "text": "name_y"
         }
        }
       }
      }
     },
     "metadata": {},
     "output_type": "display_data"
    }
   ],
   "source": [
    "\n",
    "\n",
    "# Agrupar por name_y y calcular la media de avg_rating\n",
    "df_grouped = df.groupby(\"name_y\")[\"avg_rating\"].mean()\n",
    "\n",
    "# Ordenar los resultados de mayor a menor y seleccionar los primeros 10\n",
    "df_sorted = df_grouped.sort_values(ascending=False).head(10)\n",
    "\n",
    "# Crear una figura con go.Figure()\n",
    "fig = go.Figure()\n",
    "\n",
    "# Agregar una traza de tipo go.Bar() con los parámetros x, y y orientation\n",
    "fig.add_trace(go.Bar(x=df_sorted, y=df_sorted.index, orientation='h'))\n",
    "\n",
    "# Personalizar el aspecto del gráfico con fig.update_layout() y fig.update_traces()\n",
    "fig.update_layout(title=\"Los 10 restaurantes con más avg_rating\",\n",
    "                  xaxis_title=\"avg_rating\",\n",
    "                  yaxis_title=\"name_y\",\n",
    "                  font=dict(size=14, color=\"black\"))\n",
    "fig.update_traces(marker_color=\"pink\")\n",
    "\n",
    "# Mostrar o guardar el gráfico\n",
    "fig.show()\n",
    "# fig.write_html(\"grafico.html\")\n"
   ]
  },
  {
   "cell_type": "code",
   "execution_count": null,
   "metadata": {},
   "outputs": [],
   "source": []
  }
 ],
 "metadata": {
  "kernelspec": {
   "display_name": "Python 3",
   "language": "python",
   "name": "python3"
  },
  "language_info": {
   "codemirror_mode": {
    "name": "ipython",
    "version": 3
   },
   "file_extension": ".py",
   "mimetype": "text/x-python",
   "name": "python",
   "nbconvert_exporter": "python",
   "pygments_lexer": "ipython3",
   "version": "3.11.4"
  }
 },
 "nbformat": 4,
 "nbformat_minor": 2
}
