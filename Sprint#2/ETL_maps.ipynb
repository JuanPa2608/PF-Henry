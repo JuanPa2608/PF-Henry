{
  "cells": [
    {
      "cell_type": "markdown",
      "source": [
        "El proceso de ETL comprendiendo la totalidad de los datos se realizará utilizando **pyspark** y **polars** y llamando a los datos desde su origen de drive para luego ser cargados a un data lakehouse en GCP"
      ],
      "metadata": {
        "id": "_wFnR2F0aurh"
      }
    },
    {
      "cell_type": "markdown",
      "source": [
        "Instalamos las librerías pyspark y polars"
      ],
      "metadata": {
        "id": "plaP4GQnbPg6"
      }
    },
    {
      "cell_type": "code",
      "execution_count": 1,
      "metadata": {
        "id": "MtM2aLa1-rRQ",
        "colab": {
          "base_uri": "https://localhost:8080/"
        },
        "outputId": "5c757039-41be-41d7-cefb-7c9c2daecf0f"
      },
      "outputs": [
        {
          "output_type": "stream",
          "name": "stdout",
          "text": [
            "Collecting pyspark\n",
            "  Downloading pyspark-3.5.0.tar.gz (316.9 MB)\n",
            "\u001b[2K     \u001b[90m━━━━━━━━━━━━━━━━━━━━━━━━━━━━━━━━━━━━━━━━\u001b[0m \u001b[32m316.9/316.9 MB\u001b[0m \u001b[31m3.9 MB/s\u001b[0m eta \u001b[36m0:00:00\u001b[0m\n",
            "\u001b[?25h  Preparing metadata (setup.py) ... \u001b[?25l\u001b[?25hdone\n",
            "Requirement already satisfied: polars in /usr/local/lib/python3.10/dist-packages (0.17.3)\n",
            "Requirement already satisfied: gcsfs in /usr/local/lib/python3.10/dist-packages (2023.6.0)\n",
            "Collecting fastparquet\n",
            "  Downloading fastparquet-2023.10.1-cp310-cp310-manylinux_2_17_x86_64.manylinux2014_x86_64.whl (1.7 MB)\n",
            "\u001b[2K     \u001b[90m━━━━━━━━━━━━━━━━━━━━━━━━━━━━━━━━━━━━━━━━\u001b[0m \u001b[32m1.7/1.7 MB\u001b[0m \u001b[31m45.9 MB/s\u001b[0m eta \u001b[36m0:00:00\u001b[0m\n",
            "\u001b[?25hRequirement already satisfied: py4j==0.10.9.7 in /usr/local/lib/python3.10/dist-packages (from pyspark) (0.10.9.7)\n",
            "Requirement already satisfied: typing_extensions>=4.0.1 in /usr/local/lib/python3.10/dist-packages (from polars) (4.5.0)\n",
            "Requirement already satisfied: aiohttp!=4.0.0a0,!=4.0.0a1 in /usr/local/lib/python3.10/dist-packages (from gcsfs) (3.9.1)\n",
            "Requirement already satisfied: decorator>4.1.2 in /usr/local/lib/python3.10/dist-packages (from gcsfs) (4.4.2)\n",
            "Requirement already satisfied: fsspec==2023.6.0 in /usr/local/lib/python3.10/dist-packages (from gcsfs) (2023.6.0)\n",
            "Requirement already satisfied: google-auth>=1.2 in /usr/local/lib/python3.10/dist-packages (from gcsfs) (2.17.3)\n",
            "Requirement already satisfied: google-auth-oauthlib in /usr/local/lib/python3.10/dist-packages (from gcsfs) (1.2.0)\n",
            "Requirement already satisfied: google-cloud-storage in /usr/local/lib/python3.10/dist-packages (from gcsfs) (2.8.0)\n",
            "Requirement already satisfied: requests in /usr/local/lib/python3.10/dist-packages (from gcsfs) (2.31.0)\n",
            "Requirement already satisfied: pandas>=1.5.0 in /usr/local/lib/python3.10/dist-packages (from fastparquet) (1.5.3)\n",
            "Requirement already satisfied: numpy>=1.20.3 in /usr/local/lib/python3.10/dist-packages (from fastparquet) (1.23.5)\n",
            "Collecting cramjam>=2.3 (from fastparquet)\n",
            "  Downloading cramjam-2.7.0-cp310-cp310-manylinux_2_17_x86_64.manylinux2014_x86_64.whl (1.6 MB)\n",
            "\u001b[2K     \u001b[90m━━━━━━━━━━━━━━━━━━━━━━━━━━━━━━━━━━━━━━━━\u001b[0m \u001b[32m1.6/1.6 MB\u001b[0m \u001b[31m54.1 MB/s\u001b[0m eta \u001b[36m0:00:00\u001b[0m\n",
            "\u001b[?25hRequirement already satisfied: packaging in /usr/local/lib/python3.10/dist-packages (from fastparquet) (23.2)\n",
            "Requirement already satisfied: attrs>=17.3.0 in /usr/local/lib/python3.10/dist-packages (from aiohttp!=4.0.0a0,!=4.0.0a1->gcsfs) (23.2.0)\n",
            "Requirement already satisfied: multidict<7.0,>=4.5 in /usr/local/lib/python3.10/dist-packages (from aiohttp!=4.0.0a0,!=4.0.0a1->gcsfs) (6.0.4)\n",
            "Requirement already satisfied: yarl<2.0,>=1.0 in /usr/local/lib/python3.10/dist-packages (from aiohttp!=4.0.0a0,!=4.0.0a1->gcsfs) (1.9.4)\n",
            "Requirement already satisfied: frozenlist>=1.1.1 in /usr/local/lib/python3.10/dist-packages (from aiohttp!=4.0.0a0,!=4.0.0a1->gcsfs) (1.4.1)\n",
            "Requirement already satisfied: aiosignal>=1.1.2 in /usr/local/lib/python3.10/dist-packages (from aiohttp!=4.0.0a0,!=4.0.0a1->gcsfs) (1.3.1)\n",
            "Requirement already satisfied: async-timeout<5.0,>=4.0 in /usr/local/lib/python3.10/dist-packages (from aiohttp!=4.0.0a0,!=4.0.0a1->gcsfs) (4.0.3)\n",
            "Requirement already satisfied: cachetools<6.0,>=2.0.0 in /usr/local/lib/python3.10/dist-packages (from google-auth>=1.2->gcsfs) (5.3.2)\n",
            "Requirement already satisfied: pyasn1-modules>=0.2.1 in /usr/local/lib/python3.10/dist-packages (from google-auth>=1.2->gcsfs) (0.3.0)\n",
            "Requirement already satisfied: six>=1.9.0 in /usr/local/lib/python3.10/dist-packages (from google-auth>=1.2->gcsfs) (1.16.0)\n",
            "Requirement already satisfied: rsa<5,>=3.1.4 in /usr/local/lib/python3.10/dist-packages (from google-auth>=1.2->gcsfs) (4.9)\n",
            "Requirement already satisfied: python-dateutil>=2.8.1 in /usr/local/lib/python3.10/dist-packages (from pandas>=1.5.0->fastparquet) (2.8.2)\n",
            "Requirement already satisfied: pytz>=2020.1 in /usr/local/lib/python3.10/dist-packages (from pandas>=1.5.0->fastparquet) (2023.3.post1)\n",
            "Requirement already satisfied: requests-oauthlib>=0.7.0 in /usr/local/lib/python3.10/dist-packages (from google-auth-oauthlib->gcsfs) (1.3.1)\n",
            "Requirement already satisfied: google-api-core!=2.0.*,!=2.1.*,!=2.2.*,!=2.3.0,<3.0.0dev,>=1.31.5 in /usr/local/lib/python3.10/dist-packages (from google-cloud-storage->gcsfs) (2.11.1)\n",
            "Requirement already satisfied: google-cloud-core<3.0dev,>=2.3.0 in /usr/local/lib/python3.10/dist-packages (from google-cloud-storage->gcsfs) (2.3.3)\n",
            "Requirement already satisfied: google-resumable-media>=2.3.2 in /usr/local/lib/python3.10/dist-packages (from google-cloud-storage->gcsfs) (2.7.0)\n",
            "Requirement already satisfied: charset-normalizer<4,>=2 in /usr/local/lib/python3.10/dist-packages (from requests->gcsfs) (3.3.2)\n",
            "Requirement already satisfied: idna<4,>=2.5 in /usr/local/lib/python3.10/dist-packages (from requests->gcsfs) (3.6)\n",
            "Requirement already satisfied: urllib3<3,>=1.21.1 in /usr/local/lib/python3.10/dist-packages (from requests->gcsfs) (2.0.7)\n",
            "Requirement already satisfied: certifi>=2017.4.17 in /usr/local/lib/python3.10/dist-packages (from requests->gcsfs) (2023.11.17)\n",
            "Requirement already satisfied: googleapis-common-protos<2.0.dev0,>=1.56.2 in /usr/local/lib/python3.10/dist-packages (from google-api-core!=2.0.*,!=2.1.*,!=2.2.*,!=2.3.0,<3.0.0dev,>=1.31.5->google-cloud-storage->gcsfs) (1.62.0)\n",
            "Requirement already satisfied: protobuf!=3.20.0,!=3.20.1,!=4.21.0,!=4.21.1,!=4.21.2,!=4.21.3,!=4.21.4,!=4.21.5,<5.0.0.dev0,>=3.19.5 in /usr/local/lib/python3.10/dist-packages (from google-api-core!=2.0.*,!=2.1.*,!=2.2.*,!=2.3.0,<3.0.0dev,>=1.31.5->google-cloud-storage->gcsfs) (3.20.3)\n",
            "Requirement already satisfied: google-crc32c<2.0dev,>=1.0 in /usr/local/lib/python3.10/dist-packages (from google-resumable-media>=2.3.2->google-cloud-storage->gcsfs) (1.5.0)\n",
            "Requirement already satisfied: pyasn1<0.6.0,>=0.4.6 in /usr/local/lib/python3.10/dist-packages (from pyasn1-modules>=0.2.1->google-auth>=1.2->gcsfs) (0.5.1)\n",
            "Requirement already satisfied: oauthlib>=3.0.0 in /usr/local/lib/python3.10/dist-packages (from requests-oauthlib>=0.7.0->google-auth-oauthlib->gcsfs) (3.2.2)\n",
            "Building wheels for collected packages: pyspark\n",
            "  Building wheel for pyspark (setup.py) ... \u001b[?25l\u001b[?25hdone\n",
            "  Created wheel for pyspark: filename=pyspark-3.5.0-py2.py3-none-any.whl size=317425345 sha256=4dbec9506eff7535a10bff26e4e307529fac54a16a5de5103dbdef4ae423cea2\n",
            "  Stored in directory: /root/.cache/pip/wheels/41/4e/10/c2cf2467f71c678cfc8a6b9ac9241e5e44a01940da8fbb17fc\n",
            "Successfully built pyspark\n",
            "Installing collected packages: pyspark, cramjam, fastparquet\n",
            "Successfully installed cramjam-2.7.0 fastparquet-2023.10.1 pyspark-3.5.0\n"
          ]
        }
      ],
      "source": [
        "!pip install pyspark polars gcsfs fastparquet"
      ]
    },
    {
      "cell_type": "markdown",
      "source": [
        "Importamos las librerías necesarias"
      ],
      "metadata": {
        "id": "A5KtBw5AbZeL"
      }
    },
    {
      "cell_type": "code",
      "source": [
        "import os\n",
        "import json\n",
        "import pandas as pd\n",
        "import polars as pl\n",
        "from datetime import date, timedelta, datetime\n",
        "import time\n",
        "import re\n",
        "\n",
        "import pyspark.pandas as ps\n",
        "from pyspark.sql import SparkSession, SQLContext\n",
        "from pyspark.context import SparkContext\n",
        "from pyspark.sql.functions import *\n",
        "from pyspark.sql.types import *\n",
        "\n",
        "from google.cloud import storage\n",
        "import pyarrow.parquet as pq\n",
        "from google.colab import auth\n",
        "from google.colab import drive\n",
        "drive.mount('/content/drive')\n",
        "auth.authenticate_user()"
      ],
      "metadata": {
        "id": "INiwBgTmXbWi",
        "colab": {
          "base_uri": "https://localhost:8080/"
        },
        "outputId": "47c8c09a-f4d8-45f3-ab03-ce3b8613a554"
      },
      "execution_count": 2,
      "outputs": [
        {
          "output_type": "stream",
          "name": "stderr",
          "text": [
            "/usr/local/lib/python3.10/dist-packages/pyspark/pandas/__init__.py:50: UserWarning: 'PYARROW_IGNORE_TIMEZONE' environment variable was not set. It is required to set this environment variable to '1' in both driver and executor sides if you use pyarrow>=2.0.0. pandas-on-Spark will set it for you but it does not work if there is a Spark context already launched.\n",
            "  warnings.warn(\n"
          ]
        },
        {
          "output_type": "stream",
          "name": "stdout",
          "text": [
            "Drive already mounted at /content/drive; to attempt to forcibly remount, call drive.mount(\"/content/drive\", force_remount=True).\n"
          ]
        }
      ]
    },
    {
      "cell_type": "markdown",
      "source": [
        "Iniciamos una session de Spark"
      ],
      "metadata": {
        "id": "m-nUxnc9bczb"
      }
    },
    {
      "cell_type": "code",
      "source": [
        "spark = SparkSession.builder \\\n",
        "        .appName(\"ETL_maps\") \\\n",
        "        .config(\"spark.driver.memory\", \"8g\") \\\n",
        "        .config(\"spark.executor.memory\", \"8g\") \\\n",
        "        .config(\"spark.jars\", \"/path/to/gcs-connector-hadoop2-latest.jar\") \\\n",
        "        .getOrCreate()"
      ],
      "metadata": {
        "id": "TPjTMki-Xozj"
      },
      "execution_count": 3,
      "outputs": []
    },
    {
      "cell_type": "code",
      "source": [
        "spark"
      ],
      "metadata": {
        "colab": {
          "base_uri": "https://localhost:8080/",
          "height": 219
        },
        "id": "53d6TAb0YAC-",
        "outputId": "ffc3ef0f-a15f-431c-c796-673b55bc807c"
      },
      "execution_count": null,
      "outputs": [
        {
          "output_type": "execute_result",
          "data": {
            "text/plain": [
              "<pyspark.sql.session.SparkSession at 0x7ff9befb3040>"
            ],
            "text/html": [
              "\n",
              "            <div>\n",
              "                <p><b>SparkSession - in-memory</b></p>\n",
              "                \n",
              "        <div>\n",
              "            <p><b>SparkContext</b></p>\n",
              "\n",
              "            <p><a href=\"http://67164c2c604a:4040\">Spark UI</a></p>\n",
              "\n",
              "            <dl>\n",
              "              <dt>Version</dt>\n",
              "                <dd><code>v3.5.0</code></dd>\n",
              "              <dt>Master</dt>\n",
              "                <dd><code>local[*]</code></dd>\n",
              "              <dt>AppName</dt>\n",
              "                <dd><code>ETL</code></dd>\n",
              "            </dl>\n",
              "        </div>\n",
              "        \n",
              "            </div>\n",
              "        "
            ]
          },
          "metadata": {},
          "execution_count": 6
        }
      ]
    },
    {
      "cell_type": "markdown",
      "source": [
        "# ETL metadata-sitios"
      ],
      "metadata": {
        "id": "AbmnkUOvbigL"
      }
    },
    {
      "cell_type": "markdown",
      "source": [
        "Información del comercio, incluyendo localización, atributos y categorías."
      ],
      "metadata": {
        "id": "0OABDm8kbIIa"
      }
    },
    {
      "cell_type": "code",
      "execution_count": 4,
      "metadata": {
        "id": "1DgeHTHlGCag"
      },
      "outputs": [],
      "source": [
        "sitio1 = spark.read.json('/content/drive/MyDrive/Google Maps/metadata-sitios/1.json')"
      ]
    },
    {
      "cell_type": "markdown",
      "source": [
        "Mostramos la información del DF sitio1"
      ],
      "metadata": {
        "id": "Txblmbn5NrhU"
      }
    },
    {
      "cell_type": "code",
      "source": [
        "# Mostramos el DF sitio1\n",
        "sitio1.show(7)\n",
        "\n",
        "# Descripción del DF\n",
        "sitio1.describe().show()"
      ],
      "metadata": {
        "colab": {
          "base_uri": "https://localhost:8080/"
        },
        "id": "aAFyG-PDgvSh",
        "outputId": "5e6d83b3-cb72-4796-c1ea-e21933368a6d"
      },
      "execution_count": null,
      "outputs": [
        {
          "output_type": "stream",
          "name": "stdout",
          "text": [
            "+--------------------+--------------------+----------+-------------------+-----------+--------------------+--------------------+----------+-------------------+--------------------+--------------+-----+--------------------+--------------------+--------------------+\n",
            "|                MISC|             address|avg_rating|           category|description|             gmap_id|               hours|  latitude|          longitude|                name|num_of_reviews|price|    relative_results|               state|                 url|\n",
            "+--------------------+--------------------+----------+-------------------+-----------+--------------------+--------------------+----------+-------------------+--------------------+--------------+-----+--------------------+--------------------+--------------------+\n",
            "|{[Wheelchair acce...|Porter Pharmacy, ...|       4.9|         [Pharmacy]|       NULL|0x88f16e41928ff68...|[[Friday, 8AM–6PM...|   32.3883|           -83.3571|     Porter Pharmacy|            16| NULL|[0x88f16e41929435...|   Open ⋅ Closes 6PM|https://www.googl...|\n",
            "|                NULL|City Textile, 300...|       4.5| [Textile exporter]|       NULL|0x80c2c98c0e3c16f...|                NULL|34.0188913|       -118.2152898|        City Textile|             6| NULL|[0x80c2c624136ea8...|            Open now|https://www.googl...|\n",
            "|{[Wheelchair acce...|San Soo Dang, 761...|       4.4|[Korean restaurant]|       NULL|0x80c2c778e3b73d3...|[[Thursday, 6:30A...|34.0580917|       -118.2921295|        San Soo Dang|            18| NULL|[0x80c2c78249aba6...|   Open ⋅ Closes 6PM|https://www.googl...|\n",
            "|{NULL, NULL, NULL...|Nova Fabrics, 220...|       3.3|     [Fabric store]|       NULL|0x80c2c89923b27a4...|[[Thursday, 9AM–5...|34.0236689|       -118.2329297|        Nova Fabrics|             6| NULL|[0x80c2c881147725...|   Open ⋅ Closes 5PM|https://www.googl...|\n",
            "|{NULL, NULL, NULL...|Nobel Textile Co,...|       4.3|     [Fabric store]|       NULL|0x80c2c632f933b07...|[[Thursday, 9AM–5...|34.0366942|       -118.2494208|    Nobel Textile Co|             7| NULL|[0x80c2c62c496083...|   Open ⋅ Closes 5PM|https://www.googl...|\n",
            "|{[Wheelchair acce...|Matrix Internatio...|       3.5|     [Fabric store]|       NULL|0x80c2cf163db6bc8...|[[Thursday, 8:30A...|34.0155047|       -118.1818394|Matrix Internatio...|             6| NULL|[0x80c2cf042a5d95...|Open ⋅ Closes 5:30PM|https://www.googl...|\n",
            "|{[Wheelchair acce...|Vons Chicken, 127...|       4.5|       [Restaurant]|       NULL|0x80dd2b4c8555edb...|[[Thursday, 11AM–...|33.9164023|-118.01085499999999|        Vons Chicken|            18| NULL|                NULL|Open ⋅ Closes 9:30PM|https://www.googl...|\n",
            "+--------------------+--------------------+----------+-------------------+-----------+--------------------+--------------------+----------+-------------------+--------------------+--------------+-----+--------------------+--------------------+--------------------+\n",
            "only showing top 7 rows\n",
            "\n",
            "+-------+--------------------+------------------+--------------------+--------------------+-------------------+-------------------+--------------------+-----------------+-----+------------------+--------------------+\n",
            "|summary|             address|        avg_rating|         description|             gmap_id|           latitude|          longitude|                name|   num_of_reviews|price|             state|                 url|\n",
            "+-------+--------------------+------------------+--------------------+--------------------+-------------------+-------------------+--------------------+-----------------+-----+------------------+--------------------+\n",
            "|  count|              264939|            275001|               13155|              275001|             275001|             275001|              274994|           275001|13450|            195523|              275001|\n",
            "|   mean|                NULL|4.3072156101254775|                NULL|                NULL|  37.49011244811321| -92.27470752969502|  111.45454545454545|19.72275009909055| NULL|              NULL|                NULL|\n",
            "| stddev|                NULL|0.7901014711929081|                NULL|                NULL|  5.405779913612213| 16.414616526884654|  219.33138325788715| 37.6420922690908| NULL|              NULL|                NULL|\n",
            "|    min|\"Bill\" Fuchs Park...|               1.0|\"Aphrodisiac\" glo...|0x0:0x1cda8cf8c09...|-1.7660589999999998|-176.64464759999998|   \"Bill\" Fuchs Park|                1|    $|            Closed|https://www.googl...|\n",
            "|    max|🥇Villa de Vanmar...|               5.0|Zen-like boutique...|0xf5605db11f06f1b...|         70.3985443|              180.0|🥇Villa de Vanmar...|             2114| $$$$|Temporarily closed|https://www.googl...|\n",
            "+-------+--------------------+------------------+--------------------+--------------------+-------------------+-------------------+--------------------+-----------------+-----+------------------+--------------------+\n",
            "\n"
          ]
        }
      ]
    },
    {
      "cell_type": "code",
      "source": [
        "sitio2 = spark.read.json('/content/drive/MyDrive/Google Maps/metadata-sitios/2.json')"
      ],
      "metadata": {
        "id": "t60TnqY6Yx0i"
      },
      "execution_count": 5,
      "outputs": []
    },
    {
      "cell_type": "code",
      "source": [
        "# Mostramos el DF sitio2\n",
        "sitio2.show(7)\n",
        "\n",
        "# Descripción del DF\n",
        "sitio2.describe().show()"
      ],
      "metadata": {
        "colab": {
          "base_uri": "https://localhost:8080/"
        },
        "id": "gSBIAscRKTgq",
        "outputId": "0bc1d996-dac4-4331-98d4-3937171054b7"
      },
      "execution_count": null,
      "outputs": [
        {
          "output_type": "stream",
          "name": "stdout",
          "text": [
            "+--------------------+--------------------+----------+--------------------+--------------------+--------------------+--------------------+------------------+------------------+--------------------+--------------+-----+--------------------+--------------------+--------------------+\n",
            "|                MISC|             address|avg_rating|            category|         description|             gmap_id|               hours|          latitude|         longitude|                name|num_of_reviews|price|    relative_results|               state|                 url|\n",
            "+--------------------+--------------------+----------+--------------------+--------------------+--------------------+--------------------+------------------+------------------+--------------------+--------------+-----+--------------------+--------------------+--------------------+\n",
            "|{[Wheelchair acce...|Porter Pharmacy, ...|       4.9|          [Pharmacy]|                NULL|0x88f16e41928ff68...|[[Friday, 8AM–6PM...|           32.3883|          -83.3571|     Porter Pharmacy|            16| NULL|[0x88f16e41929435...|   Open ⋅ Closes 6PM|https://www.googl...|\n",
            "|{[Wheelchair acce...|Glik's, 1405 W Ma...|       4.4|[Clothing store, ...|Family-owned clot...|0x4d354f7b3ae7bef...|[[Saturday, 10AM–...|        45.0255778|       -84.7026437|              Glik's|            16| NULL|[0x4d3545876def64...|   Open ⋅ Closes 8PM|https://www.googl...|\n",
            "|{[Wheelchair acce...|Oscoda County Are...|       4.7|[Handicapped tran...|                NULL|0x88208ef3441c45b...|                NULL|        44.6456211|-84.14976589999999|Oscoda County Are...|             6| NULL|[0x88208ef38622ee...|                NULL|https://www.googl...|\n",
            "|{[Wheelchair acce...|Hickerson Floor &...|       4.7|[Flooring store, ...|                NULL|0x4d35487e8d00056...|[[Saturday, 9AM–3...|        45.0283422|       -84.7191653|Hickerson Floor &...|            16| NULL|[0x4d354f7bc74070...|Closed ⋅ Opens 9A...|https://www.googl...|\n",
            "|{[Wheelchair acce...|Beck Suzanne A MD...|       4.2|            [Doctor]|                NULL|0x86fe72aa61be7aa...|                NULL|        33.5753355|      -101.8902262|   Beck Suzanne A MD|             5| NULL|[0x86fe0d58535f63...|                NULL|https://www.googl...|\n",
            "|{[Wheelchair acce...|Perfection Plus Q...|       4.8|    [Auto body shop]|                NULL|0x8847094a3de18bc...|[[Saturday, Close...|        39.3389629|       -82.9888014|Perfection Plus Q...|            26| NULL|[0x88478af3c864d4...|Closed ⋅ Opens 8A...|https://www.googl...|\n",
            "|{[Wheelchair acce...|Charlie's Hair Sa...|       4.9|       [Barber shop]|                NULL|0x89c244ae49053e9...|[[Saturday, Close...|40.624173899999995|        -73.946044|Charlie's Hair Salon|            88| NULL|[0x89c244a48d153d...|Closed ⋅ Opens 8:...|https://www.googl...|\n",
            "+--------------------+--------------------+----------+--------------------+--------------------+--------------------+--------------------+------------------+------------------+--------------------+--------------+-----+--------------------+--------------------+--------------------+\n",
            "only showing top 7 rows\n",
            "\n",
            "+-------+--------------------+------------------+--------------------+--------------------+------------------+-------------------+--------------------+------------------+-----+------------------+--------------------+\n",
            "|summary|             address|        avg_rating|         description|             gmap_id|          latitude|          longitude|                name|    num_of_reviews|price|             state|                 url|\n",
            "+-------+--------------------+------------------+--------------------+--------------------+------------------+-------------------+--------------------+------------------+-----+------------------+--------------------+\n",
            "|  count|              265201|            275001|               14111|              275001|            275001|             275001|              274993|            275001|14401|            195942|              275001|\n",
            "|   mean|                NULL| 4.307291973484207|                NULL|                NULL|37.412696800058015|  -92.3525968471571|   129.0909090909091|21.480809160693962| NULL|              NULL|                NULL|\n",
            "| stddev|                NULL|0.7759394245466126|                NULL|                NULL| 5.397783011462443| 16.295668884629862|  232.88372367480454| 39.84230218660227| NULL|              NULL|                NULL|\n",
            "|    min|!alpha DUI Defens...|               1.0|100 miles’ worth ...|0x0:0xc0e07f129fe...|               0.0|-178.79166669999998|!alpha DUI Defens...|                 1|    $|            Closed|https://www.googl...|\n",
            "|    max|🦶 Relax Reflexol...|               5.0|Zip line course o...|0xf2af423c5029d0b...|        74.6616911|        164.2068991|🦶 Relax Reflexol...|              2258| $$$$|Temporarily closed|https://www.googl...|\n",
            "+-------+--------------------+------------------+--------------------+--------------------+------------------+-------------------+--------------------+------------------+-----+------------------+--------------------+\n",
            "\n"
          ]
        }
      ]
    },
    {
      "cell_type": "markdown",
      "source": [
        "Abrimos el resto de archivos **sitio**"
      ],
      "metadata": {
        "id": "ofrXQyNDdfBW"
      }
    },
    {
      "cell_type": "code",
      "source": [
        "sitio3 = spark.read.json('/content/drive/MyDrive/Google Maps/metadata-sitios/3.json')\n",
        "sitio4 = spark.read.json('/content/drive/MyDrive/Google Maps/metadata-sitios/4.json')\n",
        "sitio5 = spark.read.json('/content/drive/MyDrive/Google Maps/metadata-sitios/5.json')\n",
        "sitio6 = spark.read.json('/content/drive/MyDrive/Google Maps/metadata-sitios/6.json')\n",
        "sitio7 = spark.read.json('/content/drive/MyDrive/Google Maps/metadata-sitios/7.json')\n",
        "sitio8 = spark.read.json('/content/drive/MyDrive/Google Maps/metadata-sitios/8.json')\n",
        "sitio9 = spark.read.json('/content/drive/MyDrive/Google Maps/metadata-sitios/9.json')\n",
        "sitio10 = spark.read.json('/content/drive/MyDrive/Google Maps/metadata-sitios/10.json')\n",
        "sitio11 = spark.read.json('/content/drive/MyDrive/Google Maps/metadata-sitios/11.json')"
      ],
      "metadata": {
        "id": "KDuuOGxqY35T"
      },
      "execution_count": null,
      "outputs": []
    },
    {
      "cell_type": "markdown",
      "source": [
        "Observamos la estructura de cada esquema"
      ],
      "metadata": {
        "id": "LvNlXGUPlR_x"
      }
    },
    {
      "cell_type": "code",
      "source": [
        "sitios = [sitio1, sitio2, sitio3, sitio4, sitio5, sitio6, sitio7, sitio8, sitio9, sitio10, sitio11]\n",
        "\n",
        "for i, df in enumerate(sitios):\n",
        "    print(f\"Schema de sitio{i + 1}:\")\n",
        "    df.printSchema()"
      ],
      "metadata": {
        "colab": {
          "base_uri": "https://localhost:8080/"
        },
        "id": "SB5RR937EI1t",
        "outputId": "cd3fa5fa-9768-4df6-b9f7-b1408fd95e7d"
      },
      "execution_count": null,
      "outputs": [
        {
          "output_type": "stream",
          "name": "stdout",
          "text": [
            "Schema de sitio1:\n",
            "root\n",
            " |-- MISC: struct (nullable = true)\n",
            " |    |-- Accessibility: array (nullable = true)\n",
            " |    |    |-- element: string (containsNull = true)\n",
            " |    |-- Activities: array (nullable = true)\n",
            " |    |    |-- element: string (containsNull = true)\n",
            " |    |-- Amenities: array (nullable = true)\n",
            " |    |    |-- element: string (containsNull = true)\n",
            " |    |-- Atmosphere: array (nullable = true)\n",
            " |    |    |-- element: string (containsNull = true)\n",
            " |    |-- Crowd: array (nullable = true)\n",
            " |    |    |-- element: string (containsNull = true)\n",
            " |    |-- Dining options: array (nullable = true)\n",
            " |    |    |-- element: string (containsNull = true)\n",
            " |    |-- From the business: array (nullable = true)\n",
            " |    |    |-- element: string (containsNull = true)\n",
            " |    |-- Getting here: array (nullable = true)\n",
            " |    |    |-- element: string (containsNull = true)\n",
            " |    |-- Health & safety: array (nullable = true)\n",
            " |    |    |-- element: string (containsNull = true)\n",
            " |    |-- Highlights: array (nullable = true)\n",
            " |    |    |-- element: string (containsNull = true)\n",
            " |    |-- Offerings: array (nullable = true)\n",
            " |    |    |-- element: string (containsNull = true)\n",
            " |    |-- Payments: array (nullable = true)\n",
            " |    |    |-- element: string (containsNull = true)\n",
            " |    |-- Planning: array (nullable = true)\n",
            " |    |    |-- element: string (containsNull = true)\n",
            " |    |-- Popular for: array (nullable = true)\n",
            " |    |    |-- element: string (containsNull = true)\n",
            " |    |-- Recycling: array (nullable = true)\n",
            " |    |    |-- element: string (containsNull = true)\n",
            " |    |-- Service options: array (nullable = true)\n",
            " |    |    |-- element: string (containsNull = true)\n",
            " |-- address: string (nullable = true)\n",
            " |-- avg_rating: double (nullable = true)\n",
            " |-- category: array (nullable = true)\n",
            " |    |-- element: string (containsNull = true)\n",
            " |-- description: string (nullable = true)\n",
            " |-- gmap_id: string (nullable = true)\n",
            " |-- hours: array (nullable = true)\n",
            " |    |-- element: array (containsNull = true)\n",
            " |    |    |-- element: string (containsNull = true)\n",
            " |-- latitude: double (nullable = true)\n",
            " |-- longitude: double (nullable = true)\n",
            " |-- name: string (nullable = true)\n",
            " |-- num_of_reviews: long (nullable = true)\n",
            " |-- price: string (nullable = true)\n",
            " |-- relative_results: array (nullable = true)\n",
            " |    |-- element: string (containsNull = true)\n",
            " |-- state: string (nullable = true)\n",
            " |-- url: string (nullable = true)\n",
            "\n",
            "Schema de sitio2:\n",
            "root\n",
            " |-- MISC: struct (nullable = true)\n",
            " |    |-- Accessibility: array (nullable = true)\n",
            " |    |    |-- element: string (containsNull = true)\n",
            " |    |-- Activities: array (nullable = true)\n",
            " |    |    |-- element: string (containsNull = true)\n",
            " |    |-- Amenities: array (nullable = true)\n",
            " |    |    |-- element: string (containsNull = true)\n",
            " |    |-- Atmosphere: array (nullable = true)\n",
            " |    |    |-- element: string (containsNull = true)\n",
            " |    |-- Crowd: array (nullable = true)\n",
            " |    |    |-- element: string (containsNull = true)\n",
            " |    |-- Dining options: array (nullable = true)\n",
            " |    |    |-- element: string (containsNull = true)\n",
            " |    |-- From the business: array (nullable = true)\n",
            " |    |    |-- element: string (containsNull = true)\n",
            " |    |-- Getting here: array (nullable = true)\n",
            " |    |    |-- element: string (containsNull = true)\n",
            " |    |-- Health & safety: array (nullable = true)\n",
            " |    |    |-- element: string (containsNull = true)\n",
            " |    |-- Highlights: array (nullable = true)\n",
            " |    |    |-- element: string (containsNull = true)\n",
            " |    |-- Offerings: array (nullable = true)\n",
            " |    |    |-- element: string (containsNull = true)\n",
            " |    |-- Payments: array (nullable = true)\n",
            " |    |    |-- element: string (containsNull = true)\n",
            " |    |-- Planning: array (nullable = true)\n",
            " |    |    |-- element: string (containsNull = true)\n",
            " |    |-- Popular for: array (nullable = true)\n",
            " |    |    |-- element: string (containsNull = true)\n",
            " |    |-- Recycling: array (nullable = true)\n",
            " |    |    |-- element: string (containsNull = true)\n",
            " |    |-- Service options: array (nullable = true)\n",
            " |    |    |-- element: string (containsNull = true)\n",
            " |-- address: string (nullable = true)\n",
            " |-- avg_rating: double (nullable = true)\n",
            " |-- category: array (nullable = true)\n",
            " |    |-- element: string (containsNull = true)\n",
            " |-- description: string (nullable = true)\n",
            " |-- gmap_id: string (nullable = true)\n",
            " |-- hours: array (nullable = true)\n",
            " |    |-- element: array (containsNull = true)\n",
            " |    |    |-- element: string (containsNull = true)\n",
            " |-- latitude: double (nullable = true)\n",
            " |-- longitude: double (nullable = true)\n",
            " |-- name: string (nullable = true)\n",
            " |-- num_of_reviews: long (nullable = true)\n",
            " |-- price: string (nullable = true)\n",
            " |-- relative_results: array (nullable = true)\n",
            " |    |-- element: string (containsNull = true)\n",
            " |-- state: string (nullable = true)\n",
            " |-- url: string (nullable = true)\n",
            "\n",
            "Schema de sitio3:\n",
            "root\n",
            " |-- MISC: struct (nullable = true)\n",
            " |    |-- Accessibility: array (nullable = true)\n",
            " |    |    |-- element: string (containsNull = true)\n",
            " |    |-- Activities: array (nullable = true)\n",
            " |    |    |-- element: string (containsNull = true)\n",
            " |    |-- Amenities: array (nullable = true)\n",
            " |    |    |-- element: string (containsNull = true)\n",
            " |    |-- Atmosphere: array (nullable = true)\n",
            " |    |    |-- element: string (containsNull = true)\n",
            " |    |-- Crowd: array (nullable = true)\n",
            " |    |    |-- element: string (containsNull = true)\n",
            " |    |-- Dining options: array (nullable = true)\n",
            " |    |    |-- element: string (containsNull = true)\n",
            " |    |-- From the business: array (nullable = true)\n",
            " |    |    |-- element: string (containsNull = true)\n",
            " |    |-- Getting here: array (nullable = true)\n",
            " |    |    |-- element: string (containsNull = true)\n",
            " |    |-- Health & safety: array (nullable = true)\n",
            " |    |    |-- element: string (containsNull = true)\n",
            " |    |-- Highlights: array (nullable = true)\n",
            " |    |    |-- element: string (containsNull = true)\n",
            " |    |-- Offerings: array (nullable = true)\n",
            " |    |    |-- element: string (containsNull = true)\n",
            " |    |-- Payments: array (nullable = true)\n",
            " |    |    |-- element: string (containsNull = true)\n",
            " |    |-- Planning: array (nullable = true)\n",
            " |    |    |-- element: string (containsNull = true)\n",
            " |    |-- Popular for: array (nullable = true)\n",
            " |    |    |-- element: string (containsNull = true)\n",
            " |    |-- Recycling: array (nullable = true)\n",
            " |    |    |-- element: string (containsNull = true)\n",
            " |    |-- Service options: array (nullable = true)\n",
            " |    |    |-- element: string (containsNull = true)\n",
            " |-- address: string (nullable = true)\n",
            " |-- avg_rating: double (nullable = true)\n",
            " |-- category: array (nullable = true)\n",
            " |    |-- element: string (containsNull = true)\n",
            " |-- description: string (nullable = true)\n",
            " |-- gmap_id: string (nullable = true)\n",
            " |-- hours: array (nullable = true)\n",
            " |    |-- element: array (containsNull = true)\n",
            " |    |    |-- element: string (containsNull = true)\n",
            " |-- latitude: double (nullable = true)\n",
            " |-- longitude: double (nullable = true)\n",
            " |-- name: string (nullable = true)\n",
            " |-- num_of_reviews: long (nullable = true)\n",
            " |-- price: string (nullable = true)\n",
            " |-- relative_results: array (nullable = true)\n",
            " |    |-- element: string (containsNull = true)\n",
            " |-- state: string (nullable = true)\n",
            " |-- url: string (nullable = true)\n",
            "\n",
            "Schema de sitio4:\n",
            "root\n",
            " |-- MISC: struct (nullable = true)\n",
            " |    |-- Accessibility: array (nullable = true)\n",
            " |    |    |-- element: string (containsNull = true)\n",
            " |    |-- Activities: array (nullable = true)\n",
            " |    |    |-- element: string (containsNull = true)\n",
            " |    |-- Amenities: array (nullable = true)\n",
            " |    |    |-- element: string (containsNull = true)\n",
            " |    |-- Atmosphere: array (nullable = true)\n",
            " |    |    |-- element: string (containsNull = true)\n",
            " |    |-- Crowd: array (nullable = true)\n",
            " |    |    |-- element: string (containsNull = true)\n",
            " |    |-- Dining options: array (nullable = true)\n",
            " |    |    |-- element: string (containsNull = true)\n",
            " |    |-- From the business: array (nullable = true)\n",
            " |    |    |-- element: string (containsNull = true)\n",
            " |    |-- Getting here: array (nullable = true)\n",
            " |    |    |-- element: string (containsNull = true)\n",
            " |    |-- Health & safety: array (nullable = true)\n",
            " |    |    |-- element: string (containsNull = true)\n",
            " |    |-- Highlights: array (nullable = true)\n",
            " |    |    |-- element: string (containsNull = true)\n",
            " |    |-- Lodging options: array (nullable = true)\n",
            " |    |    |-- element: string (containsNull = true)\n",
            " |    |-- Offerings: array (nullable = true)\n",
            " |    |    |-- element: string (containsNull = true)\n",
            " |    |-- Payments: array (nullable = true)\n",
            " |    |    |-- element: string (containsNull = true)\n",
            " |    |-- Planning: array (nullable = true)\n",
            " |    |    |-- element: string (containsNull = true)\n",
            " |    |-- Popular for: array (nullable = true)\n",
            " |    |    |-- element: string (containsNull = true)\n",
            " |    |-- Recycling: array (nullable = true)\n",
            " |    |    |-- element: string (containsNull = true)\n",
            " |    |-- Service options: array (nullable = true)\n",
            " |    |    |-- element: string (containsNull = true)\n",
            " |-- address: string (nullable = true)\n",
            " |-- avg_rating: double (nullable = true)\n",
            " |-- category: array (nullable = true)\n",
            " |    |-- element: string (containsNull = true)\n",
            " |-- description: string (nullable = true)\n",
            " |-- gmap_id: string (nullable = true)\n",
            " |-- hours: array (nullable = true)\n",
            " |    |-- element: array (containsNull = true)\n",
            " |    |    |-- element: string (containsNull = true)\n",
            " |-- latitude: double (nullable = true)\n",
            " |-- longitude: double (nullable = true)\n",
            " |-- name: string (nullable = true)\n",
            " |-- num_of_reviews: long (nullable = true)\n",
            " |-- price: string (nullable = true)\n",
            " |-- relative_results: array (nullable = true)\n",
            " |    |-- element: string (containsNull = true)\n",
            " |-- state: string (nullable = true)\n",
            " |-- url: string (nullable = true)\n",
            "\n",
            "Schema de sitio5:\n",
            "root\n",
            " |-- MISC: struct (nullable = true)\n",
            " |    |-- Accessibility: array (nullable = true)\n",
            " |    |    |-- element: string (containsNull = true)\n",
            " |    |-- Activities: array (nullable = true)\n",
            " |    |    |-- element: string (containsNull = true)\n",
            " |    |-- Amenities: array (nullable = true)\n",
            " |    |    |-- element: string (containsNull = true)\n",
            " |    |-- Atmosphere: array (nullable = true)\n",
            " |    |    |-- element: string (containsNull = true)\n",
            " |    |-- Crowd: array (nullable = true)\n",
            " |    |    |-- element: string (containsNull = true)\n",
            " |    |-- Dining options: array (nullable = true)\n",
            " |    |    |-- element: string (containsNull = true)\n",
            " |    |-- From the business: array (nullable = true)\n",
            " |    |    |-- element: string (containsNull = true)\n",
            " |    |-- Getting here: array (nullable = true)\n",
            " |    |    |-- element: string (containsNull = true)\n",
            " |    |-- Health & safety: array (nullable = true)\n",
            " |    |    |-- element: string (containsNull = true)\n",
            " |    |-- Highlights: array (nullable = true)\n",
            " |    |    |-- element: string (containsNull = true)\n",
            " |    |-- Lodging options: array (nullable = true)\n",
            " |    |    |-- element: string (containsNull = true)\n",
            " |    |-- Offerings: array (nullable = true)\n",
            " |    |    |-- element: string (containsNull = true)\n",
            " |    |-- Payments: array (nullable = true)\n",
            " |    |    |-- element: string (containsNull = true)\n",
            " |    |-- Planning: array (nullable = true)\n",
            " |    |    |-- element: string (containsNull = true)\n",
            " |    |-- Popular for: array (nullable = true)\n",
            " |    |    |-- element: string (containsNull = true)\n",
            " |    |-- Recycling: array (nullable = true)\n",
            " |    |    |-- element: string (containsNull = true)\n",
            " |    |-- Service options: array (nullable = true)\n",
            " |    |    |-- element: string (containsNull = true)\n",
            " |-- address: string (nullable = true)\n",
            " |-- avg_rating: double (nullable = true)\n",
            " |-- category: array (nullable = true)\n",
            " |    |-- element: string (containsNull = true)\n",
            " |-- description: string (nullable = true)\n",
            " |-- gmap_id: string (nullable = true)\n",
            " |-- hours: array (nullable = true)\n",
            " |    |-- element: array (containsNull = true)\n",
            " |    |    |-- element: string (containsNull = true)\n",
            " |-- latitude: double (nullable = true)\n",
            " |-- longitude: double (nullable = true)\n",
            " |-- name: string (nullable = true)\n",
            " |-- num_of_reviews: long (nullable = true)\n",
            " |-- price: string (nullable = true)\n",
            " |-- relative_results: array (nullable = true)\n",
            " |    |-- element: string (containsNull = true)\n",
            " |-- state: string (nullable = true)\n",
            " |-- url: string (nullable = true)\n",
            "\n",
            "Schema de sitio6:\n",
            "root\n",
            " |-- MISC: struct (nullable = true)\n",
            " |    |-- Accessibility: array (nullable = true)\n",
            " |    |    |-- element: string (containsNull = true)\n",
            " |    |-- Activities: array (nullable = true)\n",
            " |    |    |-- element: string (containsNull = true)\n",
            " |    |-- Amenities: array (nullable = true)\n",
            " |    |    |-- element: string (containsNull = true)\n",
            " |    |-- Atmosphere: array (nullable = true)\n",
            " |    |    |-- element: string (containsNull = true)\n",
            " |    |-- Crowd: array (nullable = true)\n",
            " |    |    |-- element: string (containsNull = true)\n",
            " |    |-- Dining options: array (nullable = true)\n",
            " |    |    |-- element: string (containsNull = true)\n",
            " |    |-- From the business: array (nullable = true)\n",
            " |    |    |-- element: string (containsNull = true)\n",
            " |    |-- Getting here: array (nullable = true)\n",
            " |    |    |-- element: string (containsNull = true)\n",
            " |    |-- Health & safety: array (nullable = true)\n",
            " |    |    |-- element: string (containsNull = true)\n",
            " |    |-- Highlights: array (nullable = true)\n",
            " |    |    |-- element: string (containsNull = true)\n",
            " |    |-- Offerings: array (nullable = true)\n",
            " |    |    |-- element: string (containsNull = true)\n",
            " |    |-- Payments: array (nullable = true)\n",
            " |    |    |-- element: string (containsNull = true)\n",
            " |    |-- Planning: array (nullable = true)\n",
            " |    |    |-- element: string (containsNull = true)\n",
            " |    |-- Popular for: array (nullable = true)\n",
            " |    |    |-- element: string (containsNull = true)\n",
            " |    |-- Recycling: array (nullable = true)\n",
            " |    |    |-- element: string (containsNull = true)\n",
            " |    |-- Service options: array (nullable = true)\n",
            " |    |    |-- element: string (containsNull = true)\n",
            " |-- address: string (nullable = true)\n",
            " |-- avg_rating: double (nullable = true)\n",
            " |-- category: array (nullable = true)\n",
            " |    |-- element: string (containsNull = true)\n",
            " |-- description: string (nullable = true)\n",
            " |-- gmap_id: string (nullable = true)\n",
            " |-- hours: array (nullable = true)\n",
            " |    |-- element: array (containsNull = true)\n",
            " |    |    |-- element: string (containsNull = true)\n",
            " |-- latitude: double (nullable = true)\n",
            " |-- longitude: double (nullable = true)\n",
            " |-- name: string (nullable = true)\n",
            " |-- num_of_reviews: long (nullable = true)\n",
            " |-- price: string (nullable = true)\n",
            " |-- relative_results: array (nullable = true)\n",
            " |    |-- element: string (containsNull = true)\n",
            " |-- state: string (nullable = true)\n",
            " |-- url: string (nullable = true)\n",
            "\n",
            "Schema de sitio7:\n",
            "root\n",
            " |-- MISC: struct (nullable = true)\n",
            " |    |-- Accessibility: array (nullable = true)\n",
            " |    |    |-- element: string (containsNull = true)\n",
            " |    |-- Activities: array (nullable = true)\n",
            " |    |    |-- element: string (containsNull = true)\n",
            " |    |-- Amenities: array (nullable = true)\n",
            " |    |    |-- element: string (containsNull = true)\n",
            " |    |-- Atmosphere: array (nullable = true)\n",
            " |    |    |-- element: string (containsNull = true)\n",
            " |    |-- Crowd: array (nullable = true)\n",
            " |    |    |-- element: string (containsNull = true)\n",
            " |    |-- Dining options: array (nullable = true)\n",
            " |    |    |-- element: string (containsNull = true)\n",
            " |    |-- From the business: array (nullable = true)\n",
            " |    |    |-- element: string (containsNull = true)\n",
            " |    |-- Getting here: array (nullable = true)\n",
            " |    |    |-- element: string (containsNull = true)\n",
            " |    |-- Health & safety: array (nullable = true)\n",
            " |    |    |-- element: string (containsNull = true)\n",
            " |    |-- Health and safety: array (nullable = true)\n",
            " |    |    |-- element: string (containsNull = true)\n",
            " |    |-- Highlights: array (nullable = true)\n",
            " |    |    |-- element: string (containsNull = true)\n",
            " |    |-- Offerings: array (nullable = true)\n",
            " |    |    |-- element: string (containsNull = true)\n",
            " |    |-- Payments: array (nullable = true)\n",
            " |    |    |-- element: string (containsNull = true)\n",
            " |    |-- Planning: array (nullable = true)\n",
            " |    |    |-- element: string (containsNull = true)\n",
            " |    |-- Popular for: array (nullable = true)\n",
            " |    |    |-- element: string (containsNull = true)\n",
            " |    |-- Recycling: array (nullable = true)\n",
            " |    |    |-- element: string (containsNull = true)\n",
            " |    |-- Service options: array (nullable = true)\n",
            " |    |    |-- element: string (containsNull = true)\n",
            " |-- address: string (nullable = true)\n",
            " |-- avg_rating: double (nullable = true)\n",
            " |-- category: array (nullable = true)\n",
            " |    |-- element: string (containsNull = true)\n",
            " |-- description: string (nullable = true)\n",
            " |-- gmap_id: string (nullable = true)\n",
            " |-- hours: array (nullable = true)\n",
            " |    |-- element: array (containsNull = true)\n",
            " |    |    |-- element: string (containsNull = true)\n",
            " |-- latitude: double (nullable = true)\n",
            " |-- longitude: double (nullable = true)\n",
            " |-- name: string (nullable = true)\n",
            " |-- num_of_reviews: long (nullable = true)\n",
            " |-- price: string (nullable = true)\n",
            " |-- relative_results: array (nullable = true)\n",
            " |    |-- element: string (containsNull = true)\n",
            " |-- state: string (nullable = true)\n",
            " |-- url: string (nullable = true)\n",
            "\n",
            "Schema de sitio8:\n",
            "root\n",
            " |-- MISC: struct (nullable = true)\n",
            " |    |-- Accessibility: array (nullable = true)\n",
            " |    |    |-- element: string (containsNull = true)\n",
            " |    |-- Activities: array (nullable = true)\n",
            " |    |    |-- element: string (containsNull = true)\n",
            " |    |-- Amenities: array (nullable = true)\n",
            " |    |    |-- element: string (containsNull = true)\n",
            " |    |-- Atmosphere: array (nullable = true)\n",
            " |    |    |-- element: string (containsNull = true)\n",
            " |    |-- Crowd: array (nullable = true)\n",
            " |    |    |-- element: string (containsNull = true)\n",
            " |    |-- Dining options: array (nullable = true)\n",
            " |    |    |-- element: string (containsNull = true)\n",
            " |    |-- From the business: array (nullable = true)\n",
            " |    |    |-- element: string (containsNull = true)\n",
            " |    |-- Getting here: array (nullable = true)\n",
            " |    |    |-- element: string (containsNull = true)\n",
            " |    |-- Health & safety: array (nullable = true)\n",
            " |    |    |-- element: string (containsNull = true)\n",
            " |    |-- Health and safety: array (nullable = true)\n",
            " |    |    |-- element: string (containsNull = true)\n",
            " |    |-- Highlights: array (nullable = true)\n",
            " |    |    |-- element: string (containsNull = true)\n",
            " |    |-- Offerings: array (nullable = true)\n",
            " |    |    |-- element: string (containsNull = true)\n",
            " |    |-- Payments: array (nullable = true)\n",
            " |    |    |-- element: string (containsNull = true)\n",
            " |    |-- Planning: array (nullable = true)\n",
            " |    |    |-- element: string (containsNull = true)\n",
            " |    |-- Popular for: array (nullable = true)\n",
            " |    |    |-- element: string (containsNull = true)\n",
            " |    |-- Recycling: array (nullable = true)\n",
            " |    |    |-- element: string (containsNull = true)\n",
            " |    |-- Service options: array (nullable = true)\n",
            " |    |    |-- element: string (containsNull = true)\n",
            " |-- address: string (nullable = true)\n",
            " |-- avg_rating: double (nullable = true)\n",
            " |-- category: array (nullable = true)\n",
            " |    |-- element: string (containsNull = true)\n",
            " |-- description: string (nullable = true)\n",
            " |-- gmap_id: string (nullable = true)\n",
            " |-- hours: array (nullable = true)\n",
            " |    |-- element: array (containsNull = true)\n",
            " |    |    |-- element: string (containsNull = true)\n",
            " |-- latitude: double (nullable = true)\n",
            " |-- longitude: double (nullable = true)\n",
            " |-- name: string (nullable = true)\n",
            " |-- num_of_reviews: long (nullable = true)\n",
            " |-- price: string (nullable = true)\n",
            " |-- relative_results: array (nullable = true)\n",
            " |    |-- element: string (containsNull = true)\n",
            " |-- state: string (nullable = true)\n",
            " |-- url: string (nullable = true)\n",
            "\n",
            "Schema de sitio9:\n",
            "root\n",
            " |-- MISC: struct (nullable = true)\n",
            " |    |-- Accessibility: array (nullable = true)\n",
            " |    |    |-- element: string (containsNull = true)\n",
            " |    |-- Activities: array (nullable = true)\n",
            " |    |    |-- element: string (containsNull = true)\n",
            " |    |-- Amenities: array (nullable = true)\n",
            " |    |    |-- element: string (containsNull = true)\n",
            " |    |-- Atmosphere: array (nullable = true)\n",
            " |    |    |-- element: string (containsNull = true)\n",
            " |    |-- Crowd: array (nullable = true)\n",
            " |    |    |-- element: string (containsNull = true)\n",
            " |    |-- Dining options: array (nullable = true)\n",
            " |    |    |-- element: string (containsNull = true)\n",
            " |    |-- From the business: array (nullable = true)\n",
            " |    |    |-- element: string (containsNull = true)\n",
            " |    |-- Getting here: array (nullable = true)\n",
            " |    |    |-- element: string (containsNull = true)\n",
            " |    |-- Health & safety: array (nullable = true)\n",
            " |    |    |-- element: string (containsNull = true)\n",
            " |    |-- Highlights: array (nullable = true)\n",
            " |    |    |-- element: string (containsNull = true)\n",
            " |    |-- Offerings: array (nullable = true)\n",
            " |    |    |-- element: string (containsNull = true)\n",
            " |    |-- Payments: array (nullable = true)\n",
            " |    |    |-- element: string (containsNull = true)\n",
            " |    |-- Planning: array (nullable = true)\n",
            " |    |    |-- element: string (containsNull = true)\n",
            " |    |-- Popular for: array (nullable = true)\n",
            " |    |    |-- element: string (containsNull = true)\n",
            " |    |-- Recycling: array (nullable = true)\n",
            " |    |    |-- element: string (containsNull = true)\n",
            " |    |-- Service options: array (nullable = true)\n",
            " |    |    |-- element: string (containsNull = true)\n",
            " |-- address: string (nullable = true)\n",
            " |-- avg_rating: double (nullable = true)\n",
            " |-- category: array (nullable = true)\n",
            " |    |-- element: string (containsNull = true)\n",
            " |-- description: string (nullable = true)\n",
            " |-- gmap_id: string (nullable = true)\n",
            " |-- hours: array (nullable = true)\n",
            " |    |-- element: array (containsNull = true)\n",
            " |    |    |-- element: string (containsNull = true)\n",
            " |-- latitude: double (nullable = true)\n",
            " |-- longitude: double (nullable = true)\n",
            " |-- name: string (nullable = true)\n",
            " |-- num_of_reviews: long (nullable = true)\n",
            " |-- price: string (nullable = true)\n",
            " |-- relative_results: array (nullable = true)\n",
            " |    |-- element: string (containsNull = true)\n",
            " |-- state: string (nullable = true)\n",
            " |-- url: string (nullable = true)\n",
            "\n",
            "Schema de sitio10:\n",
            "root\n",
            " |-- MISC: struct (nullable = true)\n",
            " |    |-- Accessibility: array (nullable = true)\n",
            " |    |    |-- element: string (containsNull = true)\n",
            " |    |-- Activities: array (nullable = true)\n",
            " |    |    |-- element: string (containsNull = true)\n",
            " |    |-- Amenities: array (nullable = true)\n",
            " |    |    |-- element: string (containsNull = true)\n",
            " |    |-- Atmosphere: array (nullable = true)\n",
            " |    |    |-- element: string (containsNull = true)\n",
            " |    |-- Crowd: array (nullable = true)\n",
            " |    |    |-- element: string (containsNull = true)\n",
            " |    |-- Dining options: array (nullable = true)\n",
            " |    |    |-- element: string (containsNull = true)\n",
            " |    |-- From the business: array (nullable = true)\n",
            " |    |    |-- element: string (containsNull = true)\n",
            " |    |-- Getting here: array (nullable = true)\n",
            " |    |    |-- element: string (containsNull = true)\n",
            " |    |-- Health & safety: array (nullable = true)\n",
            " |    |    |-- element: string (containsNull = true)\n",
            " |    |-- Highlights: array (nullable = true)\n",
            " |    |    |-- element: string (containsNull = true)\n",
            " |    |-- Lodging options: array (nullable = true)\n",
            " |    |    |-- element: string (containsNull = true)\n",
            " |    |-- Offerings: array (nullable = true)\n",
            " |    |    |-- element: string (containsNull = true)\n",
            " |    |-- Payments: array (nullable = true)\n",
            " |    |    |-- element: string (containsNull = true)\n",
            " |    |-- Planning: array (nullable = true)\n",
            " |    |    |-- element: string (containsNull = true)\n",
            " |    |-- Popular for: array (nullable = true)\n",
            " |    |    |-- element: string (containsNull = true)\n",
            " |    |-- Recycling: array (nullable = true)\n",
            " |    |    |-- element: string (containsNull = true)\n",
            " |    |-- Service options: array (nullable = true)\n",
            " |    |    |-- element: string (containsNull = true)\n",
            " |-- address: string (nullable = true)\n",
            " |-- avg_rating: double (nullable = true)\n",
            " |-- category: array (nullable = true)\n",
            " |    |-- element: string (containsNull = true)\n",
            " |-- description: string (nullable = true)\n",
            " |-- gmap_id: string (nullable = true)\n",
            " |-- hours: array (nullable = true)\n",
            " |    |-- element: array (containsNull = true)\n",
            " |    |    |-- element: string (containsNull = true)\n",
            " |-- latitude: double (nullable = true)\n",
            " |-- longitude: double (nullable = true)\n",
            " |-- name: string (nullable = true)\n",
            " |-- num_of_reviews: long (nullable = true)\n",
            " |-- price: string (nullable = true)\n",
            " |-- relative_results: array (nullable = true)\n",
            " |    |-- element: string (containsNull = true)\n",
            " |-- state: string (nullable = true)\n",
            " |-- url: string (nullable = true)\n",
            "\n",
            "Schema de sitio11:\n",
            "root\n",
            " |-- MISC: struct (nullable = true)\n",
            " |    |-- Accessibility: array (nullable = true)\n",
            " |    |    |-- element: string (containsNull = true)\n",
            " |    |-- Activities: array (nullable = true)\n",
            " |    |    |-- element: string (containsNull = true)\n",
            " |    |-- Amenities: array (nullable = true)\n",
            " |    |    |-- element: string (containsNull = true)\n",
            " |    |-- Atmosphere: array (nullable = true)\n",
            " |    |    |-- element: string (containsNull = true)\n",
            " |    |-- Crowd: array (nullable = true)\n",
            " |    |    |-- element: string (containsNull = true)\n",
            " |    |-- Dining options: array (nullable = true)\n",
            " |    |    |-- element: string (containsNull = true)\n",
            " |    |-- From the business: array (nullable = true)\n",
            " |    |    |-- element: string (containsNull = true)\n",
            " |    |-- Getting here: array (nullable = true)\n",
            " |    |    |-- element: string (containsNull = true)\n",
            " |    |-- Health & safety: array (nullable = true)\n",
            " |    |    |-- element: string (containsNull = true)\n",
            " |    |-- Highlights: array (nullable = true)\n",
            " |    |    |-- element: string (containsNull = true)\n",
            " |    |-- Lodging options: array (nullable = true)\n",
            " |    |    |-- element: string (containsNull = true)\n",
            " |    |-- Offerings: array (nullable = true)\n",
            " |    |    |-- element: string (containsNull = true)\n",
            " |    |-- Payments: array (nullable = true)\n",
            " |    |    |-- element: string (containsNull = true)\n",
            " |    |-- Planning: array (nullable = true)\n",
            " |    |    |-- element: string (containsNull = true)\n",
            " |    |-- Popular for: array (nullable = true)\n",
            " |    |    |-- element: string (containsNull = true)\n",
            " |    |-- Recycling: array (nullable = true)\n",
            " |    |    |-- element: string (containsNull = true)\n",
            " |    |-- Service options: array (nullable = true)\n",
            " |    |    |-- element: string (containsNull = true)\n",
            " |-- address: string (nullable = true)\n",
            " |-- avg_rating: double (nullable = true)\n",
            " |-- category: array (nullable = true)\n",
            " |    |-- element: string (containsNull = true)\n",
            " |-- description: string (nullable = true)\n",
            " |-- gmap_id: string (nullable = true)\n",
            " |-- hours: array (nullable = true)\n",
            " |    |-- element: array (containsNull = true)\n",
            " |    |    |-- element: string (containsNull = true)\n",
            " |-- latitude: double (nullable = true)\n",
            " |-- longitude: double (nullable = true)\n",
            " |-- name: string (nullable = true)\n",
            " |-- num_of_reviews: long (nullable = true)\n",
            " |-- price: string (nullable = true)\n",
            " |-- relative_results: array (nullable = true)\n",
            " |    |-- element: string (containsNull = true)\n",
            " |-- state: string (nullable = true)\n",
            " |-- url: string (nullable = true)\n",
            "\n"
          ]
        }
      ]
    },
    {
      "cell_type": "markdown",
      "source": [
        "Según los esquemas, la columna **MISC** los DFs de los sitios 1, 2, 3, 6 y 9 es diferente tipo que la misma columna en los DFs 4, 5, 7, 8, 10 y 11. Por lo que, unimos todos los DFs de acuerdo al tipo de dato de la columna **MISC**."
      ],
      "metadata": {
        "id": "SZvl4hC9oCjl"
      }
    },
    {
      "cell_type": "code",
      "source": [
        "# sitioA contiene los DFs cuya columna MISC tiene 16 archivos\n",
        "sitioA = sitio1.union(sitio2).union(sitio3).union(sitio6).union(sitio9)"
      ],
      "metadata": {
        "id": "fQ2EiHh21JxL"
      },
      "execution_count": null,
      "outputs": []
    },
    {
      "cell_type": "code",
      "source": [
        "# sitioB contiene los DFs cuya columna MISC tiene 17 archivos\n",
        "sitioB = sitio4.union(sitio5).union(sitio7).union(sitio8).union(sitio10).union(sitio11)"
      ],
      "metadata": {
        "id": "csD8u4JQGBfb"
      },
      "execution_count": null,
      "outputs": []
    },
    {
      "cell_type": "code",
      "source": [
        "'''\n",
        "def desanidar_columna(df, columna):\n",
        "  # Obtenemos el esquema de la columna que se quiere desanidar\n",
        "  esquema = df.schema[columna].dataType\n",
        "\n",
        "  # Iteramos a través de los campos de la columna a desanidar\n",
        "  for nombre_campo in esquema.names:\n",
        "    nuevo_nombre_columna = f\"{nombre_campo}\"\n",
        "    df = df.withColumn(nuevo_nombre_columna, col(f\"{columna}.{nombre_campo}\"))\n",
        "\n",
        "  # Eliminamos la columna anidada\n",
        "  df = df.drop(columna)\n",
        "\n",
        "  return df\n",
        "\n",
        "'''"
      ],
      "metadata": {
        "id": "tFOULn6NQmxC"
      },
      "execution_count": null,
      "outputs": []
    },
    {
      "cell_type": "code",
      "source": [
        "# sitioA = desanidar_columna(sitioA, 'MISC')\n",
        "# sitioB = desanidar_columna(sitioB, 'MISC')"
      ],
      "metadata": {
        "id": "DLlp1-SDowe8"
      },
      "execution_count": null,
      "outputs": []
    },
    {
      "cell_type": "markdown",
      "source": [
        "Mostramos"
      ],
      "metadata": {
        "id": "m0fAyNOA62qB"
      }
    },
    {
      "cell_type": "code",
      "source": [
        "sitioA.show(5)\n",
        "\n",
        "sitioB.show(5)"
      ],
      "metadata": {
        "colab": {
          "base_uri": "https://localhost:8080/"
        },
        "id": "wtRKCNX_fw2C",
        "outputId": "dae76bc9-5b6f-440a-de01-d208908e3125"
      },
      "execution_count": null,
      "outputs": [
        {
          "output_type": "stream",
          "name": "stdout",
          "text": [
            "+--------------------+--------------------+----------+-------------------+-----------+--------------------+--------------------+----------+------------+----------------+--------------+-----+--------------------+-----------------+--------------------+\n",
            "|                MISC|             address|avg_rating|           category|description|             gmap_id|               hours|  latitude|   longitude|            name|num_of_reviews|price|    relative_results|            state|                 url|\n",
            "+--------------------+--------------------+----------+-------------------+-----------+--------------------+--------------------+----------+------------+----------------+--------------+-----+--------------------+-----------------+--------------------+\n",
            "|{[Wheelchair acce...|Porter Pharmacy, ...|       4.9|         [Pharmacy]|       NULL|0x88f16e41928ff68...|[[Friday, 8AM–6PM...|   32.3883|    -83.3571| Porter Pharmacy|            16| NULL|[0x88f16e41929435...|Open ⋅ Closes 6PM|https://www.googl...|\n",
            "|                NULL|City Textile, 300...|       4.5| [Textile exporter]|       NULL|0x80c2c98c0e3c16f...|                NULL|34.0188913|-118.2152898|    City Textile|             6| NULL|[0x80c2c624136ea8...|         Open now|https://www.googl...|\n",
            "|{[Wheelchair acce...|San Soo Dang, 761...|       4.4|[Korean restaurant]|       NULL|0x80c2c778e3b73d3...|[[Thursday, 6:30A...|34.0580917|-118.2921295|    San Soo Dang|            18| NULL|[0x80c2c78249aba6...|Open ⋅ Closes 6PM|https://www.googl...|\n",
            "|{NULL, NULL, NULL...|Nova Fabrics, 220...|       3.3|     [Fabric store]|       NULL|0x80c2c89923b27a4...|[[Thursday, 9AM–5...|34.0236689|-118.2329297|    Nova Fabrics|             6| NULL|[0x80c2c881147725...|Open ⋅ Closes 5PM|https://www.googl...|\n",
            "|{NULL, NULL, NULL...|Nobel Textile Co,...|       4.3|     [Fabric store]|       NULL|0x80c2c632f933b07...|[[Thursday, 9AM–5...|34.0366942|-118.2494208|Nobel Textile Co|             7| NULL|[0x80c2c62c496083...|Open ⋅ Closes 5PM|https://www.googl...|\n",
            "+--------------------+--------------------+----------+-------------------+-----------+--------------------+--------------------+----------+------------+----------------+--------------+-----+--------------------+-----------------+--------------------+\n",
            "only showing top 5 rows\n",
            "\n",
            "+--------------------+--------------------+----------+--------------------+-----------+--------------------+--------------------+------------------+------------------+--------------------+--------------+-----+--------------------+--------------------+--------------------+\n",
            "|                MISC|             address|avg_rating|            category|description|             gmap_id|               hours|          latitude|         longitude|                name|num_of_reviews|price|    relative_results|               state|                 url|\n",
            "+--------------------+--------------------+----------+--------------------+-----------+--------------------+--------------------+------------------+------------------+--------------------+--------------+-----+--------------------+--------------------+--------------------+\n",
            "|{[Wheelchair acce...|Porter Pharmacy, ...|       4.9|          [Pharmacy]|       NULL|0x88f16e41928ff68...|[[Friday, 8AM–6PM...|           32.3883|          -83.3571|     Porter Pharmacy|            16| NULL|[0x88f16e41929435...|   Open ⋅ Closes 6PM|https://www.googl...|\n",
            "|{NULL, NULL, [Goo...|Pittsburgh Circus...|       3.9|[Gymnastics cente...|       NULL|0x8834f5bb828394c...|[[Saturday, 9AM–1...|40.505382499999996|-80.07873529999999|Pittsburgh Circus...|            16| NULL|                NULL|Closed ⋅ Opens 6P...|https://www.googl...|\n",
            "|                NULL|Freedom ElecTech,...|       4.5|[Electrician, Aud...|       NULL|0x8850fa407ebe7c7...|[[Saturday, 10AM–...|         36.210733|        -81.666781|    Freedom ElecTech|             8| NULL|[0x8850fa308494fc...|Closed ⋅ Opens 8A...|https://www.googl...|\n",
            "|{[Wheelchair acce...|Dietz Floral & Gi...|       4.3|[Florist, Gift ba...|       NULL|0x8834f503bec584f...|[[Saturday, 9AM–4...|        40.4962786|-80.05724579999999|Dietz Floral & Gifts|            38| NULL|[0x8834f3c5bb960c...|  Permanently closed|https://www.googl...|\n",
            "|{[Wheelchair acce...|Beech Mountain Co...|       4.6|        [Auditorium]|       NULL|0x88508c6d4a58520...|                NULL|        36.2371881|       -81.9300713|Beech Mountain Co...|             5| NULL|[0x88508ce75fb388...|                NULL|https://www.googl...|\n",
            "+--------------------+--------------------+----------+--------------------+-----------+--------------------+--------------------+------------------+------------------+--------------------+--------------+-----+--------------------+--------------------+--------------------+\n",
            "only showing top 5 rows\n",
            "\n"
          ]
        }
      ]
    },
    {
      "cell_type": "markdown",
      "source": [
        "Eliminamos la columna MISC de ambos DFs"
      ],
      "metadata": {
        "id": "i3IDrqfsBk3y"
      }
    },
    {
      "cell_type": "code",
      "source": [
        "sitioA = sitioA.drop('MISC')\n",
        "sitioB = sitioB.drop('MISC')"
      ],
      "metadata": {
        "id": "jPIMY7ZrBoFX"
      },
      "execution_count": null,
      "outputs": []
    },
    {
      "cell_type": "markdown",
      "source": [
        "Unimos los dos dataframes"
      ],
      "metadata": {
        "id": "7bOdqohm5gYr"
      }
    },
    {
      "cell_type": "code",
      "source": [
        "sitios = sitioA.union(sitioB)\n",
        "\n",
        "sitios.show(5)\n",
        "sitios.count()"
      ],
      "metadata": {
        "colab": {
          "base_uri": "https://localhost:8080/"
        },
        "id": "O3T14sXLzyKZ",
        "outputId": "32dc6129-2501-4dc5-82e0-feff6797d003"
      },
      "execution_count": null,
      "outputs": [
        {
          "output_type": "stream",
          "name": "stdout",
          "text": [
            "+--------------------+----------+-------------------+-----------+--------------------+--------------------+----------+------------+----------------+--------------+-----+--------------------+-----------------+--------------------+\n",
            "|             address|avg_rating|           category|description|             gmap_id|               hours|  latitude|   longitude|            name|num_of_reviews|price|    relative_results|            state|                 url|\n",
            "+--------------------+----------+-------------------+-----------+--------------------+--------------------+----------+------------+----------------+--------------+-----+--------------------+-----------------+--------------------+\n",
            "|Porter Pharmacy, ...|       4.9|         [Pharmacy]|       NULL|0x88f16e41928ff68...|[[Friday, 8AM–6PM...|   32.3883|    -83.3571| Porter Pharmacy|            16| NULL|[0x88f16e41929435...|Open ⋅ Closes 6PM|https://www.googl...|\n",
            "|City Textile, 300...|       4.5| [Textile exporter]|       NULL|0x80c2c98c0e3c16f...|                NULL|34.0188913|-118.2152898|    City Textile|             6| NULL|[0x80c2c624136ea8...|         Open now|https://www.googl...|\n",
            "|San Soo Dang, 761...|       4.4|[Korean restaurant]|       NULL|0x80c2c778e3b73d3...|[[Thursday, 6:30A...|34.0580917|-118.2921295|    San Soo Dang|            18| NULL|[0x80c2c78249aba6...|Open ⋅ Closes 6PM|https://www.googl...|\n",
            "|Nova Fabrics, 220...|       3.3|     [Fabric store]|       NULL|0x80c2c89923b27a4...|[[Thursday, 9AM–5...|34.0236689|-118.2329297|    Nova Fabrics|             6| NULL|[0x80c2c881147725...|Open ⋅ Closes 5PM|https://www.googl...|\n",
            "|Nobel Textile Co,...|       4.3|     [Fabric store]|       NULL|0x80c2c632f933b07...|[[Thursday, 9AM–5...|34.0366942|-118.2494208|Nobel Textile Co|             7| NULL|[0x80c2c62c496083...|Open ⋅ Closes 5PM|https://www.googl...|\n",
            "+--------------------+----------+-------------------+-----------+--------------------+--------------------+----------+------------+----------------+--------------+-----+--------------------+-----------------+--------------------+\n",
            "only showing top 5 rows\n",
            "\n"
          ]
        },
        {
          "output_type": "execute_result",
          "data": {
            "text/plain": [
              "3025011"
            ]
          },
          "metadata": {},
          "execution_count": 83
        }
      ]
    },
    {
      "cell_type": "code",
      "source": [
        "# Observamos la cantidad de valores nulos\n",
        "sitios.select([sum(col(columna).isNull().cast(\"int\")).alias(columna) for columna in sitios.columns]).show()"
      ],
      "metadata": {
        "colab": {
          "base_uri": "https://localhost:8080/"
        },
        "id": "-CBVpmCl99xJ",
        "outputId": "fe741bf4-93ae-40ff-fca1-49ef08dbdc39"
      },
      "execution_count": null,
      "outputs": [
        {
          "output_type": "stream",
          "name": "stdout",
          "text": [
            "+-------+----------+--------+-----------+-------+------+--------+---------+----+--------------+-------+----------------+------+---+\n",
            "|address|avg_rating|category|description|gmap_id| hours|latitude|longitude|name|num_of_reviews|  price|relative_results| state|url|\n",
            "+-------+----------+--------+-----------+-------+------+--------+---------+----+--------------+-------+----------------+------+---+\n",
            "|  80511|         0|   17419|    2770722|      0|787405|       0|        0|  37|             0|2749808|          295058|746455|  0|\n",
            "+-------+----------+--------+-----------+-------+------+--------+---------+----+--------------+-------+----------------+------+---+\n",
            "\n"
          ]
        }
      ]
    },
    {
      "cell_type": "markdown",
      "source": [
        "Eliminamos otras columnas innecesarias"
      ],
      "metadata": {
        "id": "V3RQ2sGw2gvR"
      }
    },
    {
      "cell_type": "code",
      "source": [
        "sitios = sitios.drop('description', 'hours', 'num_of_reviews', 'price', 'relative_results', 'state', 'url')"
      ],
      "metadata": {
        "id": "6hzLH6OP2f4h"
      },
      "execution_count": null,
      "outputs": []
    },
    {
      "cell_type": "code",
      "source": [
        "# Fuera valores nulos\n",
        "sitios = sitios.dropna()\n",
        "\n",
        "sitios.show(5)\n",
        "sitios.count()"
      ],
      "metadata": {
        "colab": {
          "base_uri": "https://localhost:8080/"
        },
        "id": "y6dI350eClp_",
        "outputId": "c5f566df-404c-4d84-f7fe-ca2e235a6338"
      },
      "execution_count": null,
      "outputs": [
        {
          "output_type": "stream",
          "name": "stdout",
          "text": [
            "+--------------------+----------+-------------------+--------------------+----------+------------+----------------+\n",
            "|             address|avg_rating|           category|             gmap_id|  latitude|   longitude|            name|\n",
            "+--------------------+----------+-------------------+--------------------+----------+------------+----------------+\n",
            "|Porter Pharmacy, ...|       4.9|         [Pharmacy]|0x88f16e41928ff68...|   32.3883|    -83.3571| Porter Pharmacy|\n",
            "|City Textile, 300...|       4.5| [Textile exporter]|0x80c2c98c0e3c16f...|34.0188913|-118.2152898|    City Textile|\n",
            "|San Soo Dang, 761...|       4.4|[Korean restaurant]|0x80c2c778e3b73d3...|34.0580917|-118.2921295|    San Soo Dang|\n",
            "|Nova Fabrics, 220...|       3.3|     [Fabric store]|0x80c2c89923b27a4...|34.0236689|-118.2329297|    Nova Fabrics|\n",
            "|Nobel Textile Co,...|       4.3|     [Fabric store]|0x80c2c632f933b07...|34.0366942|-118.2494208|Nobel Textile Co|\n",
            "+--------------------+----------+-------------------+--------------------+----------+------------+----------------+\n",
            "only showing top 5 rows\n",
            "\n"
          ]
        },
        {
          "output_type": "execute_result",
          "data": {
            "text/plain": [
              "2927086"
            ]
          },
          "metadata": {},
          "execution_count": 85
        }
      ]
    },
    {
      "cell_type": "markdown",
      "source": [
        "Eliminamos duplicados"
      ],
      "metadata": {
        "id": "ZQ3AMweR6khA"
      }
    },
    {
      "cell_type": "code",
      "source": [
        "sitios = sitios.dropDuplicates()"
      ],
      "metadata": {
        "id": "1A4AOzY9Uhgv"
      },
      "execution_count": null,
      "outputs": []
    },
    {
      "cell_type": "code",
      "source": [
        "sitios.count()"
      ],
      "metadata": {
        "colab": {
          "base_uri": "https://localhost:8080/"
        },
        "id": "XAgHyvBsaF4Z",
        "outputId": "8e7d7101-c754-47be-c895-97a90ba9ba9e"
      },
      "execution_count": null,
      "outputs": [
        {
          "output_type": "execute_result",
          "data": {
            "text/plain": [
              "2901730"
            ]
          },
          "metadata": {},
          "execution_count": 60
        }
      ]
    },
    {
      "cell_type": "markdown",
      "source": [
        "Guardamos el DF `sitios`"
      ],
      "metadata": {
        "id": "1CJEayO5kX91"
      }
    },
    {
      "cell_type": "code",
      "source": [
        "sitios = sitios.toPandas()"
      ],
      "metadata": {
        "id": "4wkOpHf-l94_"
      },
      "execution_count": null,
      "outputs": []
    },
    {
      "cell_type": "code",
      "source": [
        "sitios.to_parquet('gs://yelp-and-maps-data-processed/Maps/metadata_sitios_clean.parquet')"
      ],
      "metadata": {
        "id": "2g-bSVw_VRZQ"
      },
      "execution_count": null,
      "outputs": []
    },
    {
      "cell_type": "markdown",
      "source": [
        "# ETL review-estados"
      ],
      "metadata": {
        "id": "Lu0wO_OMG-qz"
      }
    },
    {
      "cell_type": "markdown",
      "source": [
        "Disponibiliza las reviews de los usuarios por estado"
      ],
      "metadata": {
        "id": "IJ17oLKHhyXX"
      }
    },
    {
      "cell_type": "markdown",
      "source": [
        "## `Pennsylvania`"
      ],
      "metadata": {
        "id": "-VGpyjLhHqsp"
      }
    },
    {
      "cell_type": "code",
      "source": [
        "pennsylvania1 = spark.read.json('/content/drive/MyDrive/Google Maps/reviews-estados/review-Pennsylvania/1.json')"
      ],
      "metadata": {
        "id": "I4saDI7gG-JC"
      },
      "execution_count": 6,
      "outputs": []
    },
    {
      "cell_type": "code",
      "source": [
        "# Motramos el DF\n",
        "pennsylvania1.show(5)\n",
        "\n",
        "# Información del DF\n",
        "pennsylvania1.describe().show()"
      ],
      "metadata": {
        "colab": {
          "base_uri": "https://localhost:8080/"
        },
        "id": "50njRSyHI5Ql",
        "outputId": "567f455e-1e1b-453f-a788-1746a9e71e2d"
      },
      "execution_count": null,
      "outputs": [
        {
          "output_type": "stream",
          "name": "stdout",
          "text": [
            "+--------------------+-----------------+----+------+----+--------------------+-------------+--------------------+\n",
            "|             gmap_id|             name|pics|rating|resp|                text|         time|             user_id|\n",
            "+--------------------+-----------------+----+------+----+--------------------+-------------+--------------------+\n",
            "|0x89c6c63c8cd8714...|  Jaron Whitfield|NULL|     5|NULL|Joe is quite uniq...|1517731762839|10494474255907975...|\n",
            "|0x89c6c63c8cd8714...|Jonathan McCarthy|NULL|     5|NULL|For such a small ...|1476276291163|11760970283298032...|\n",
            "|0x89c6c63c8cd8714...|        Rocky Kev|NULL|     5|NULL|I usually give th...|1338826945578|11056324201842663...|\n",
            "|0x89c6c63c8cd8714...|      Josep Valls|NULL|     5|NULL|My bike had been ...|1363286110554|11289597350540139...|\n",
            "|0x89c6c63c8cd8714...|   Timaree Schmit|NULL|     5|NULL|Always an easy ex...|1548798329760|11061967488596382...|\n",
            "+--------------------+-----------------+----+------+----+--------------------+-------------+--------------------+\n",
            "only showing top 5 rows\n",
            "\n",
            "+-------+--------------------+-----------------+------------------+--------------------+--------------------+--------------------+\n",
            "|summary|             gmap_id|             name|            rating|                text|                time|             user_id|\n",
            "+-------+--------------------+-----------------+------------------+--------------------+--------------------+--------------------+\n",
            "|  count|              150000|           150000|            150000|               86600|              150000|              150000|\n",
            "|   mean|                NULL|          1204.25|4.3890666666666664|                NULL|1.558475944586123...|1.096242426249973...|\n",
            "| stddev|                NULL|975.0300422722025|1.1325939316523161|                NULL|4.605033326656365E10|5.134252507820746...|\n",
            "|    min|0x405d7bcaf6acac0...|   # KEEPITSTREET|                 1|!!!PLEASE READ!!!...|        662601600000|10000010512533410...|\n",
            "|    max|0xab1aa93666d12bc...|           한창용|                 5|🦀 & 🌽! Great ti...|       1631133439739|11844652994941642...|\n",
            "+-------+--------------------+-----------------+------------------+--------------------+--------------------+--------------------+\n",
            "\n"
          ]
        }
      ]
    },
    {
      "cell_type": "code",
      "source": [
        "# Abrimos el resto de reviews del estado de Pennsylvania\n",
        "pennsylvania2 = spark.read.json('/content/drive/MyDrive/Google Maps/reviews-estados/review-Pennsylvania/2.json')\n",
        "pennsylvania3 = spark.read.json('/content/drive/MyDrive/Google Maps/reviews-estados/review-Pennsylvania/3.json')\n",
        "pennsylvania4 = spark.read.json('/content/drive/MyDrive/Google Maps/reviews-estados/review-Pennsylvania/4.json')\n",
        "pennsylvania5 = spark.read.json('/content/drive/MyDrive/Google Maps/reviews-estados/review-Pennsylvania/5.json')\n",
        "pennsylvania6 = spark.read.json('/content/drive/MyDrive/Google Maps/reviews-estados/review-Pennsylvania/6.json')\n",
        "pennsylvania7 = spark.read.json('/content/drive/MyDrive/Google Maps/reviews-estados/review-Pennsylvania/7.json')\n",
        "pennsylvania8 = spark.read.json('/content/drive/MyDrive/Google Maps/reviews-estados/review-Pennsylvania/8.json')\n",
        "pennsylvania9 = spark.read.json('/content/drive/MyDrive/Google Maps/reviews-estados/review-Pennsylvania/9.json')\n",
        "pennsylvania10 = spark.read.json('/content/drive/MyDrive/Google Maps/reviews-estados/review-Pennsylvania/10.json')\n",
        "pennsylvania11 = spark.read.json('/content/drive/MyDrive/Google Maps/reviews-estados/review-Pennsylvania/11.json')\n",
        "pennsylvania12 = spark.read.json('/content/drive/MyDrive/Google Maps/reviews-estados/review-Pennsylvania/12.json')\n",
        "pennsylvania13 = spark.read.json('/content/drive/MyDrive/Google Maps/reviews-estados/review-Pennsylvania/13.json')\n",
        "pennsylvania14 = spark.read.json('/content/drive/MyDrive/Google Maps/reviews-estados/review-Pennsylvania/14.json')\n",
        "pennsylvania15 = spark.read.json('/content/drive/MyDrive/Google Maps/reviews-estados/review-Pennsylvania/15.json')\n",
        "pennsylvania16 = spark.read.json('/content/drive/MyDrive/Google Maps/reviews-estados/review-Pennsylvania/16.json')"
      ],
      "metadata": {
        "id": "YPL5u8_sJT5-"
      },
      "execution_count": 7,
      "outputs": []
    },
    {
      "cell_type": "code",
      "source": [
        "# Unimos todos los reviews del estado de Pennsylvania\n",
        "pennsylvania = pennsylvania1.union(pennsylvania2)\\\n",
        "                            .union(pennsylvania3)\\\n",
        "                            .union(pennsylvania4)\\\n",
        "                            .union(pennsylvania5)\\\n",
        "                            .union(pennsylvania6)\\\n",
        "                            .union(pennsylvania7)\\\n",
        "                            .union(pennsylvania8)\\\n",
        "                            .union(pennsylvania9)\\\n",
        "                            .union(pennsylvania10)\\\n",
        "                            .union(pennsylvania11)\\\n",
        "                            .union(pennsylvania12)\\\n",
        "                            .union(pennsylvania13)\\\n",
        "                            .union(pennsylvania14)\\\n",
        "                            .union(pennsylvania15)\\\n",
        "                            .union(pennsylvania16)"
      ],
      "metadata": {
        "id": "h7JOckJR28G8"
      },
      "execution_count": 8,
      "outputs": []
    },
    {
      "cell_type": "code",
      "source": [
        "pennsylvania.count()"
      ],
      "metadata": {
        "colab": {
          "base_uri": "https://localhost:8080/"
        },
        "id": "eDevT7mR4RwK",
        "outputId": "82506841-b62a-45cb-ea71-111d1aaedbc1"
      },
      "execution_count": 9,
      "outputs": [
        {
          "output_type": "execute_result",
          "data": {
            "text/plain": [
              "2400000"
            ]
          },
          "metadata": {},
          "execution_count": 9
        }
      ]
    },
    {
      "cell_type": "markdown",
      "source": [
        "Eliminamos columnas innecesarias"
      ],
      "metadata": {
        "id": "T1xjD1laLejo"
      }
    },
    {
      "cell_type": "code",
      "source": [
        "pennsylvania = pennsylvania.drop('pics', 'resp')"
      ],
      "metadata": {
        "id": "jffAozecLhqR"
      },
      "execution_count": 9,
      "outputs": []
    },
    {
      "cell_type": "markdown",
      "source": [
        "Eliminamos duplicados"
      ],
      "metadata": {
        "id": "EOAVGWKv4dvc"
      }
    },
    {
      "cell_type": "code",
      "source": [
        "pennsylvania = pennsylvania.dropDuplicates()"
      ],
      "metadata": {
        "id": "nScXef2i4dfV"
      },
      "execution_count": 10,
      "outputs": []
    },
    {
      "cell_type": "code",
      "source": [
        "pennsylvania.show(5)\n",
        "\n",
        "pennsylvania.count()"
      ],
      "metadata": {
        "colab": {
          "base_uri": "https://localhost:8080/"
        },
        "id": "OyJZiEDb4w-O",
        "outputId": "88c3d20a-7793-4e00-bd64-d1ee42181f52"
      },
      "execution_count": 34,
      "outputs": [
        {
          "output_type": "stream",
          "name": "stdout",
          "text": [
            "+--------------------+-----------------+------+--------------------+-------------+--------------------+\n",
            "|             gmap_id|             name|rating|                text|         time|             user_id|\n",
            "+--------------------+-----------------+------+--------------------+-------------+--------------------+\n",
            "|0x89c6c63c8cd8714...|   Jonathon Kelly|     5|This place helped...|1526927434415|10296684864808028...|\n",
            "|0x89c6c715d1821fe...|tristan ellsworth|     5|The space is a be...|1565892693381|10129630006189785...|\n",
            "|0x89cb978262d9556...|     Debra Shelow|     5|Very knowledgeabl...|1624748223955|10749061111743553...|\n",
            "|0x89cfa78597aa43c...|   Nicholas Allen|     3|             It's ok|1610114444795|10484283200506647...|\n",
            "|0x89cfa76d9e04132...|    Shawn Leriche|     5|Will be bringing ...|1552448684633|10895915575071586...|\n",
            "+--------------------+-----------------+------+--------------------+-------------+--------------------+\n",
            "only showing top 5 rows\n",
            "\n"
          ]
        },
        {
          "output_type": "execute_result",
          "data": {
            "text/plain": [
              "2366432"
            ]
          },
          "metadata": {},
          "execution_count": 34
        }
      ]
    },
    {
      "cell_type": "markdown",
      "source": [
        "Información del DF"
      ],
      "metadata": {
        "id": "M9oIxUPB83Sv"
      }
    },
    {
      "cell_type": "code",
      "source": [
        "pennsylvania.summary().show()"
      ],
      "metadata": {
        "colab": {
          "base_uri": "https://localhost:8080/"
        },
        "id": "qA8EyuoU7xbI",
        "outputId": "401fe83a-782d-4038-82d1-8a6234d14fe7"
      },
      "execution_count": 35,
      "outputs": [
        {
          "output_type": "stream",
          "name": "stdout",
          "text": [
            "+-------+--------------------+---------------------+------------------+--------------------+--------------------+--------------------+\n",
            "|summary|             gmap_id|                 name|            rating|                text|                time|             user_id|\n",
            "+-------+--------------------+---------------------+------------------+--------------------+--------------------+--------------------+\n",
            "|  count|             2366432|              2366432|           2366432|             1328047|             2366432|             2366432|\n",
            "|   mean|                NULL|                  NaN| 4.346586760151992|                NULL|1.553536247296049E12|1.092980635383948...|\n",
            "| stddev|                NULL|                  NaN|1.0905154765812306|                NULL|4.185426643685574E10|5.271360752968564...|\n",
            "|    min|0x405d7bcaf6acac0...|   \"eye's only\" blank|                 1|! These guys know...|        662601600000|10000004067989084...|\n",
            "|    25%|                NULL|                  1.0|                 4|                NULL|       1526847207021|1.047724573417328...|\n",
            "|    50%|                NULL|                 28.0|                 5|                NULL|       1555975762731|1.092734562922528...|\n",
            "|    75%|                NULL|               2019.0|                 5|                NULL|       1581783396990|1.138511354982615...|\n",
            "|    max|0xab1aa93666d12bc...|ＬＬＡＭＡ ＬＬＡＭＡ|                 5|🧡🧡🧡 Best Chine...|       1631133439739|11844671239320852...|\n",
            "+-------+--------------------+---------------------+------------------+--------------------+--------------------+--------------------+\n",
            "\n"
          ]
        }
      ]
    },
    {
      "cell_type": "code",
      "source": [
        "pennsylvania.printSchema()"
      ],
      "metadata": {
        "colab": {
          "base_uri": "https://localhost:8080/"
        },
        "id": "NRRYlyEb85pV",
        "outputId": "48cfd4f6-fe09-4e5a-d3bb-61b7ca9d8803"
      },
      "execution_count": 11,
      "outputs": [
        {
          "output_type": "stream",
          "name": "stdout",
          "text": [
            "root\n",
            " |-- gmap_id: string (nullable = true)\n",
            " |-- name: string (nullable = true)\n",
            " |-- rating: long (nullable = true)\n",
            " |-- text: string (nullable = true)\n",
            " |-- time: long (nullable = true)\n",
            " |-- user_id: string (nullable = true)\n",
            "\n"
          ]
        }
      ]
    },
    {
      "cell_type": "markdown",
      "source": [
        "Normalizamos la columna **time**"
      ],
      "metadata": {
        "id": "vYp3KnD5IbHG"
      }
    },
    {
      "cell_type": "code",
      "source": [
        "# Convertimos la columna 'time' a segundos\n",
        "pennsylvania = pennsylvania.withColumn(\"time\", (col(\"time\")/1000).cast(\"timestamp\"))"
      ],
      "metadata": {
        "id": "vv6eKSVgIfou"
      },
      "execution_count": 12,
      "outputs": []
    },
    {
      "cell_type": "code",
      "source": [
        "pennsylvania.show(5, truncate= False)"
      ],
      "metadata": {
        "colab": {
          "base_uri": "https://localhost:8080/"
        },
        "id": "_jmGYMmOJNNy",
        "outputId": "d1e7b0ec-98fc-4a26-c8b0-99d394b2d389"
      },
      "execution_count": 37,
      "outputs": [
        {
          "output_type": "stream",
          "name": "stdout",
          "text": [
            "+-------------------------------------+-----------------+------+---------------------------------------------------------------+-----------------------+---------------------+\n",
            "|gmap_id                              |name             |rating|text                                                           |time                   |user_id              |\n",
            "+-------------------------------------+-----------------+------+---------------------------------------------------------------+-----------------------+---------------------+\n",
            "|0x89c6c63c8cd87141:0x54d0d283872eecbb|Jonathon Kelly   |5     |This place helped me out big time. Fast easy and cheap. 5✨     |2018-05-21 18:30:34.415|102966848648080282781|\n",
            "|0x89c6c715d1821fe3:0x9cfa8308c0ce2289|tristan ellsworth|5     |The space is a beautiful spot to drink my espresso before work!|2019-08-15 18:11:33.381|101296300061897859237|\n",
            "|0x89cb978262d9556f:0x71621300db132dd0|Debra Shelow     |5     |Very knowledgeable and helpful staff. Worth the drive.         |2021-06-26 22:57:03.955|107490611117435535013|\n",
            "|0x89cfa78597aa43cb:0xac06ec1e3810859a|Nicholas Allen   |3     |It's ok                                                        |2021-01-08 14:00:44.795|104842832005066470584|\n",
            "|0x89cfa76d9e04132b:0x83f0dc156fc42d21|Shawn Leriche    |5     |Will be bringing my pup in for all future appointments here    |2019-03-13 03:44:44.633|108959155750715861436|\n",
            "+-------------------------------------+-----------------+------+---------------------------------------------------------------+-----------------------+---------------------+\n",
            "only showing top 5 rows\n",
            "\n"
          ]
        }
      ]
    },
    {
      "cell_type": "markdown",
      "source": [
        "Eliminamos nulos en las columnas básicas"
      ],
      "metadata": {
        "id": "FuK6GoS_k0ha"
      }
    },
    {
      "cell_type": "code",
      "source": [
        "pennsylvania = pennsylvania.dropna(subset= ['gmap_id', 'name', 'rating', 'time', 'user_id'])"
      ],
      "metadata": {
        "id": "sa8vVq0eR9KY"
      },
      "execution_count": 13,
      "outputs": []
    },
    {
      "cell_type": "code",
      "source": [
        "pennsylvania.count()"
      ],
      "metadata": {
        "colab": {
          "base_uri": "https://localhost:8080/"
        },
        "id": "E-pkgiP3SSlJ",
        "outputId": "d5556111-3e96-485a-8616-f43b2ac368c0"
      },
      "execution_count": 15,
      "outputs": [
        {
          "output_type": "execute_result",
          "data": {
            "text/plain": [
              "2366432"
            ]
          },
          "metadata": {},
          "execution_count": 15
        }
      ]
    },
    {
      "cell_type": "markdown",
      "source": [
        "Exportamos el dataframe `pennsylvania`"
      ],
      "metadata": {
        "id": "jhc0GQFLmO-Q"
      }
    },
    {
      "cell_type": "code",
      "source": [
        "pennsylvania = pennsylvania.toPandas()"
      ],
      "metadata": {
        "id": "qw3YOV85mV25"
      },
      "execution_count": 14,
      "outputs": []
    },
    {
      "cell_type": "code",
      "source": [
        "pennsylvania.to_parquet('gs://yelp-and-maps-data-processed/Maps/reviews-estados/review-Pennsylvania/pennsylvania.parquet')"
      ],
      "metadata": {
        "id": "rXLBf-AlmbTb"
      },
      "execution_count": 15,
      "outputs": []
    },
    {
      "cell_type": "markdown",
      "source": [
        "## `Florida`"
      ],
      "metadata": {
        "id": "6R8yyWYnIXkb"
      }
    },
    {
      "cell_type": "code",
      "source": [
        "florida1 = spark.read.json('/content/drive/MyDrive/Google Maps/reviews-estados/review-Florida/1.json')"
      ],
      "metadata": {
        "id": "xSpOfCMLIcYn"
      },
      "execution_count": 4,
      "outputs": []
    },
    {
      "cell_type": "code",
      "source": [
        "# Motramos el DF\n",
        "florida1.show(5)\n",
        "\n",
        "# Información del DF\n",
        "florida1.describe().show()"
      ],
      "metadata": {
        "colab": {
          "base_uri": "https://localhost:8080/"
        },
        "id": "qIJYm5SZrR95",
        "outputId": "9697b8af-4a6c-47c3-cfa9-d75061bc0921"
      },
      "execution_count": 5,
      "outputs": [
        {
          "output_type": "stream",
          "name": "stdout",
          "text": [
            "+--------------------+----------------+----+------+--------------------+--------------------+-------------+--------------------+\n",
            "|             gmap_id|            name|pics|rating|                resp|                text|         time|             user_id|\n",
            "+--------------------+----------------+----+------+--------------------+--------------------+-------------+--------------------+\n",
            "|0x8893863ea87bd5d...| Julie A. Gerber|NULL|     1|{Thank you for th...|Update: Their “re...|1628003250740|10147185615514872...|\n",
            "|0x8893863ea87bd5d...|Martin Sheffield|NULL|     5|{Thank you for re...|He's a knowledgea...|1595031217005|11547723478903832...|\n",
            "|0x8893863ea87bd5d...|    Brian Truett|NULL|     5|                NULL|Best doctor I've ...|1522924253567|10180501024489283...|\n",
            "|0x8893863ea87bd5d...|        Tina Sun|NULL|     1|                NULL|I was told he is ...|1467907819586|10634442288149374...|\n",
            "|0x8893863ea87bd5d...|    James Haynes|NULL|     5|                NULL|Takes the time to...|1480683415081|10087511306956177...|\n",
            "+--------------------+----------------+----+------+--------------------+--------------------+-------------+--------------------+\n",
            "only showing top 5 rows\n",
            "\n",
            "+-------+--------------------+--------------------+------------------+--------------------+--------------------+--------------------+\n",
            "|summary|             gmap_id|                name|            rating|                text|                time|             user_id|\n",
            "+-------+--------------------+--------------------+------------------+--------------------+--------------------+--------------------+\n",
            "|  count|              150000|              150000|            150000|              100023|              150000|              150000|\n",
            "|   mean|                NULL|                 NaN|           4.33436|                NULL|1.557094782338365E12|1.095940341036422...|\n",
            "| stddev|                NULL|                 NaN|1.2809531591774264|                NULL|4.997718725217904E10|5.151719750893822E18|\n",
            "|    min|0x1412cb6617a91cc...|\"Sugarcube\" Bradburn|                 1|! Amazing practic...|       1052611200000|10000022660031745...|\n",
            "|    max|0x89d9dfaf1dea0b8...|            좋은울림|                 5|              🧡🧡🤙|       1631204573205|11844665632571110...|\n",
            "+-------+--------------------+--------------------+------------------+--------------------+--------------------+--------------------+\n",
            "\n"
          ]
        }
      ]
    },
    {
      "cell_type": "code",
      "source": [
        "# Abrimos el resto de reviews del estado de Florida\n",
        "florida2 = spark.read.json('/content/drive/MyDrive/Google Maps/reviews-estados/review-Florida/2.json')\n",
        "florida3 = spark.read.json('/content/drive/MyDrive/Google Maps/reviews-estados/review-Florida/3.json')\n",
        "florida4 = spark.read.json('/content/drive/MyDrive/Google Maps/reviews-estados/review-Florida/4.json')\n",
        "florida5 = spark.read.json('/content/drive/MyDrive/Google Maps/reviews-estados/review-Florida/5.json')\n",
        "florida6 = spark.read.json('/content/drive/MyDrive/Google Maps/reviews-estados/review-Florida/6.json')\n",
        "florida7 = spark.read.json('/content/drive/MyDrive/Google Maps/reviews-estados/review-Florida/7.json')\n",
        "florida8 = spark.read.json('/content/drive/MyDrive/Google Maps/reviews-estados/review-Florida/8.json')\n",
        "florida9 = spark.read.json('/content/drive/MyDrive/Google Maps/reviews-estados/review-Florida/9.json')\n",
        "florida10 = spark.read.json('/content/drive/MyDrive/Google Maps/reviews-estados/review-Florida/10.json')\n",
        "florida11 = spark.read.json('/content/drive/MyDrive/Google Maps/reviews-estados/review-Florida/11.json')\n",
        "florida12 = spark.read.json('/content/drive/MyDrive/Google Maps/reviews-estados/review-Florida/12.json')\n",
        "florida13 = spark.read.json('/content/drive/MyDrive/Google Maps/reviews-estados/review-Florida/13.json')\n",
        "florida14 = spark.read.json('/content/drive/MyDrive/Google Maps/reviews-estados/review-Florida/14.json')\n",
        "florida15 = spark.read.json('/content/drive/MyDrive/Google Maps/reviews-estados/review-Florida/15.json')\n",
        "florida16 = spark.read.json('/content/drive/MyDrive/Google Maps/reviews-estados/review-Florida/16.json')\n",
        "florida17 = spark.read.json('/content/drive/MyDrive/Google Maps/reviews-estados/review-Florida/17.json')\n",
        "florida18 = spark.read.json('/content/drive/MyDrive/Google Maps/reviews-estados/review-Florida/18.json')\n",
        "florida19 = spark.read.json('/content/drive/MyDrive/Google Maps/reviews-estados/review-Florida/19.json')"
      ],
      "metadata": {
        "id": "OKY2awu8rcfy"
      },
      "execution_count": 7,
      "outputs": []
    },
    {
      "cell_type": "code",
      "source": [
        "# Unimos todos los reviews del estado de Florida\n",
        "florida = florida1.union(florida2)\\\n",
        "                  .union(florida3)\\\n",
        "                  .union(florida4)\\\n",
        "                  .union(florida5)\\\n",
        "                  .union(florida6)\\\n",
        "                  .union(florida7)\\\n",
        "                  .union(florida8)\\\n",
        "                  .union(florida9)\\\n",
        "                  .union(florida10)\\\n",
        "                  .union(florida11)\\\n",
        "                  .union(florida12)\\\n",
        "                  .union(florida13)\\\n",
        "                  .union(florida14)\\\n",
        "                  .union(florida15)\\\n",
        "                  .union(florida16)\\\n",
        "                  .union(florida17)\\\n",
        "                  .union(florida18)\\\n",
        "                  .union(florida19)"
      ],
      "metadata": {
        "id": "E08n5PS3sEM-"
      },
      "execution_count": 9,
      "outputs": []
    },
    {
      "cell_type": "code",
      "source": [
        "# Número de filas\n",
        "florida.count()"
      ],
      "metadata": {
        "colab": {
          "base_uri": "https://localhost:8080/"
        },
        "id": "1M__LeqXs0rT",
        "outputId": "ff2d4c3d-8962-4411-87f3-8c519bbd9119"
      },
      "execution_count": 13,
      "outputs": [
        {
          "output_type": "execute_result",
          "data": {
            "text/plain": [
              "2850000"
            ]
          },
          "metadata": {},
          "execution_count": 13
        }
      ]
    },
    {
      "cell_type": "markdown",
      "source": [
        "Eliminamos columnas innecesarias"
      ],
      "metadata": {
        "id": "lhCev-kotGkD"
      }
    },
    {
      "cell_type": "code",
      "source": [
        "florida = florida.drop('pics', 'resp')"
      ],
      "metadata": {
        "id": "0n4snhvEtGkI"
      },
      "execution_count": 14,
      "outputs": []
    },
    {
      "cell_type": "markdown",
      "source": [
        "Eliminamos duplicados"
      ],
      "metadata": {
        "id": "i8G5RviqtGkI"
      }
    },
    {
      "cell_type": "code",
      "source": [
        "florida = florida.dropDuplicates()"
      ],
      "metadata": {
        "id": "r8v8fwZVtGkI"
      },
      "execution_count": 15,
      "outputs": []
    },
    {
      "cell_type": "code",
      "source": [
        "florida.show(5)\n",
        "\n",
        "florida.count()"
      ],
      "metadata": {
        "colab": {
          "base_uri": "https://localhost:8080/"
        },
        "outputId": "371a1dd7-e154-4821-e89a-1cf1d47b1fa7",
        "id": "zlbHJwEltGkI"
      },
      "execution_count": 16,
      "outputs": [
        {
          "output_type": "stream",
          "name": "stdout",
          "text": [
            "+--------------------+-----------------+------+--------------------+-------------+--------------------+\n",
            "|             gmap_id|             name|rating|                text|         time|             user_id|\n",
            "+--------------------+-----------------+------+--------------------+-------------+--------------------+\n",
            "|0x88909517e0c1c69...|     Alex Liddell|     5|Dorris is the Bes...|1550276337325|11490682933386983...|\n",
            "|0x88c2d19dba9bebd...|    lourdes lopez|     5|Best salon ever! ...|1620184323580|11329173691561468...|\n",
            "|0x88e5b08ff343d57...|               RJ|     1|Horrible Service ...|1451491894296|10560153291067776...|\n",
            "|0x88e62d723d9a4d5...|Harley David Lott|     5|The Postal Gal wa...|1602436267168|11438683392577048...|\n",
            "|0x88d9b86f7110f73...|     isasmella456|     5|In November I wil...|1505857953482|10897592033683909...|\n",
            "+--------------------+-----------------+------+--------------------+-------------+--------------------+\n",
            "only showing top 5 rows\n",
            "\n"
          ]
        },
        {
          "output_type": "execute_result",
          "data": {
            "text/plain": [
              "2730604"
            ]
          },
          "metadata": {},
          "execution_count": 16
        }
      ]
    },
    {
      "cell_type": "markdown",
      "source": [
        "Información del DF"
      ],
      "metadata": {
        "id": "BkAV_ufptGkI"
      }
    },
    {
      "cell_type": "code",
      "source": [
        "florida.summary().show()"
      ],
      "metadata": {
        "colab": {
          "base_uri": "https://localhost:8080/"
        },
        "outputId": "eef472fd-9b59-4674-a969-d3d3761cbb8e",
        "id": "F5R2huJbtGkJ"
      },
      "execution_count": 17,
      "outputs": [
        {
          "output_type": "stream",
          "name": "stdout",
          "text": [
            "+-------+--------------------+--------------------+------------------+----------------+--------------------+--------------------+\n",
            "|summary|             gmap_id|                name|            rating|            text|                time|             user_id|\n",
            "+-------+--------------------+--------------------+------------------+----------------+--------------------+--------------------+\n",
            "|  count|             2730604|             2730604|           2730604|         1656239|             2730604|             2730604|\n",
            "|   mean|                NULL|                 NaN|4.3153954216722745|            39.5|1.555296931944298E12|1.093050756831163E20|\n",
            "| stddev|                NULL|                 NaN|1.1688216680046275|43.1335136523794|4.362055671455134...|5.275339485885162...|\n",
            "|    min|0x0:0xa1c0f34736d...|\"Sugarcube\" Bradburn|                 1|               !|       1041379200000|10000002688865548...|\n",
            "|    25%|                NULL|                75.0|                 4|             9.0|       1527590118127|1.047797832178198...|\n",
            "|    50%|                NULL|              8008.0|                 5|             9.0|       1557856966772|1.092914686441450...|\n",
            "|    75%|                NULL|         2.4849114E7|                 5|            70.0|       1587418322364|1.138645544334920...|\n",
            "|    max|0x89e486a94387f1b...|              황순욱|                 5|          🪨🧱🏗|       1631204573205|11844671817234826...|\n",
            "+-------+--------------------+--------------------+------------------+----------------+--------------------+--------------------+\n",
            "\n"
          ]
        }
      ]
    },
    {
      "cell_type": "code",
      "source": [
        "florida.printSchema()"
      ],
      "metadata": {
        "colab": {
          "base_uri": "https://localhost:8080/"
        },
        "outputId": "dadbac5a-842f-4b5c-c534-2b8aa4d3b4d0",
        "id": "I0U1S2qmtGkJ"
      },
      "execution_count": 18,
      "outputs": [
        {
          "output_type": "stream",
          "name": "stdout",
          "text": [
            "root\n",
            " |-- gmap_id: string (nullable = true)\n",
            " |-- name: string (nullable = true)\n",
            " |-- rating: long (nullable = true)\n",
            " |-- text: string (nullable = true)\n",
            " |-- time: long (nullable = true)\n",
            " |-- user_id: string (nullable = true)\n",
            "\n"
          ]
        }
      ]
    },
    {
      "cell_type": "markdown",
      "source": [
        "Normalizamos la columna **time**"
      ],
      "metadata": {
        "id": "HVasm1C1tGkJ"
      }
    },
    {
      "cell_type": "code",
      "source": [
        "# Convertimos la columna 'time' a segundos\n",
        "florida = florida.withColumn(\"time\", (col(\"time\")/1000).cast(\"timestamp\"))"
      ],
      "metadata": {
        "id": "lu0yEZvJtGkJ"
      },
      "execution_count": 19,
      "outputs": []
    },
    {
      "cell_type": "code",
      "source": [
        "florida.show(5, truncate= False)"
      ],
      "metadata": {
        "colab": {
          "base_uri": "https://localhost:8080/"
        },
        "outputId": "2ff6b9b6-d595-4f63-f720-11852083122e",
        "id": "2ttDBSbBtGkJ"
      },
      "execution_count": 20,
      "outputs": [
        {
          "output_type": "stream",
          "name": "stdout",
          "text": [
            "+-------------------------------------+-----------------+------+--------------------------------------------------------------------------------------------------------------------------------------------------------------------------------------------------------------------------------------------------------------------------------------------------------------------------------------------------------------------------------------------------------------+-----------------------+---------------------+\n",
            "|gmap_id                              |name             |rating|text                                                                                                                                                                                                                                                                                                                                                                                                          |time                   |user_id              |\n",
            "+-------------------------------------+-----------------+------+--------------------------------------------------------------------------------------------------------------------------------------------------------------------------------------------------------------------------------------------------------------------------------------------------------------------------------------------------------------------------------------------------------------+-----------------------+---------------------+\n",
            "|0x88909517e0c1c69b:0xeaa131bf8f6f1251|Alex Liddell     |5     |Dorris is the Best!!!                                                                                                                                                                                                                                                                                                                                                                                         |2019-02-16 00:18:57.325|114906829333869831334|\n",
            "|0x88c2d19dba9bebdb:0x1eb444c1f24af0d |lourdes lopez    |5     |Best salon ever! I can’t speak highly enough of this salon. Every stylist here is very talented, and the service is impeccable. You will not be disappointed. I came in with my daughter and they are the definition of perfection when it comes to haircutting and coloring. Amazing!!!                                                                                                                      |2021-05-05 03:12:03.58 |113291736915614682408|\n",
            "|0x88e5b08ff343d57d:0x6885a796d5563ee3|RJ               |1     |Horrible Service at this pawn shop.                                                                                                                                                                                                                                                                                                                                                                           |2015-12-30 16:11:34.296|105601532910677767294|\n",
            "|0x88e62d723d9a4d55:0x45a1a1870d996007|Harley David Lott|5     |The Postal Gal was Very Polite and Helpful. She explained all information needed to complete my mailing and helped me to fill the forms properly and mailed it for me.                                                                                                                                                                                                                                        |2020-10-11 17:11:07.168|114386833925770484739|\n",
            "|0x88d9b86f7110f73d:0x7891dac5fa9b93a3|isasmella456     |5     |In November I will have my 8 year anniversary with Vivify Chiropractic, and believe when I say that they have me for life. I came as a teenager with persistent migraines and haven't suffered from a single one from my first visit. They have also put me back together after multiple car accidents. They have done all of this with utter kindness and caring. I bless the day we decided to visit Vivify!|2017-09-19 21:52:33.482|108975920336839098115|\n",
            "+-------------------------------------+-----------------+------+--------------------------------------------------------------------------------------------------------------------------------------------------------------------------------------------------------------------------------------------------------------------------------------------------------------------------------------------------------------------------------------------------------------+-----------------------+---------------------+\n",
            "only showing top 5 rows\n",
            "\n"
          ]
        }
      ]
    },
    {
      "cell_type": "markdown",
      "source": [
        "Eliminamos nulos en las columnas básicas"
      ],
      "metadata": {
        "id": "KSssvylxtGkJ"
      }
    },
    {
      "cell_type": "code",
      "source": [
        "florida = florida.dropna(subset= ['gmap_id', 'name', 'rating', 'time', 'user_id'])"
      ],
      "metadata": {
        "id": "eb8bQFa3tGkJ"
      },
      "execution_count": 21,
      "outputs": []
    },
    {
      "cell_type": "code",
      "source": [
        "florida.count()"
      ],
      "metadata": {
        "colab": {
          "base_uri": "https://localhost:8080/"
        },
        "outputId": "bc383954-f0e2-4b4d-e052-7da46100c126",
        "id": "wuo0ynIItGkJ"
      },
      "execution_count": 22,
      "outputs": [
        {
          "output_type": "execute_result",
          "data": {
            "text/plain": [
              "2730604"
            ]
          },
          "metadata": {},
          "execution_count": 22
        }
      ]
    },
    {
      "cell_type": "markdown",
      "source": [
        "Exportamos el dataframe `florida`"
      ],
      "metadata": {
        "id": "_OrNy-LjtGkJ"
      }
    },
    {
      "cell_type": "code",
      "source": [
        "florida = florida.toPandas()"
      ],
      "metadata": {
        "id": "81jzhI08tGkJ"
      },
      "execution_count": 23,
      "outputs": []
    },
    {
      "cell_type": "code",
      "source": [
        "florida.to_parquet('gs://yelp-and-maps-data-processed/Maps/reviews-estados/review-Florida/florida.parquet')"
      ],
      "metadata": {
        "id": "mjTinkIgtGkJ"
      },
      "execution_count": 24,
      "outputs": []
    },
    {
      "cell_type": "code",
      "source": [],
      "metadata": {
        "id": "pTh5GVbItNVV"
      },
      "execution_count": null,
      "outputs": []
    },
    {
      "cell_type": "markdown",
      "source": [
        "Finalizamos la sesión de spark"
      ],
      "metadata": {
        "id": "i6wJQlsWWrna"
      }
    },
    {
      "cell_type": "code",
      "source": [
        "spark.stop()"
      ],
      "metadata": {
        "id": "jHkXXhGghZ9h"
      },
      "execution_count": null,
      "outputs": []
    }
  ],
  "metadata": {
    "colab": {
      "provenance": []
    },
    "kernelspec": {
      "display_name": "Python 3",
      "name": "python3"
    },
    "language_info": {
      "name": "python"
    }
  },
  "nbformat": 4,
  "nbformat_minor": 0
}